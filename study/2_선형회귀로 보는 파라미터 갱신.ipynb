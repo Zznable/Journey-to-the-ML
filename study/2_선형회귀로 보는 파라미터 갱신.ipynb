{
 "cells": [
  {
   "cell_type": "markdown",
   "id": "bc6f9be2",
   "metadata": {},
   "source": [
    "# 선형회귀로 보는 파라미터 갱신\n",
    "\n",
    "저는 수학을 잘하지는 못합니다  \n",
    "수학적인 함의나 의의보다는 `내가 생각하는 자연스러운 알고리즘이 조금 수학적 함의를 담고 있었다`라고 생각을 하게 만드는 것이  \n",
    "컴퓨터 공학을 하는 사람들에게 수학의 필요성을 어필하는 방법일 것 같습니다    \n",
    "\n",
    "선형회귀를 조금은 알고리즘적으로 접근을 해보고자 합니다  \n",
    "캐글에서 연료소비량 데이터를 가져와서 진행하겠습니다  \n",
    "\n",
    "> https://www.kaggle.com/datasets/krupadharamshi/fuelconsumption"
   ]
  },
  {
   "cell_type": "code",
   "execution_count": 1,
   "id": "41dc542b",
   "metadata": {},
   "outputs": [
    {
     "data": {
      "text/html": [
       "<div>\n",
       "<style scoped>\n",
       "    .dataframe tbody tr th:only-of-type {\n",
       "        vertical-align: middle;\n",
       "    }\n",
       "\n",
       "    .dataframe tbody tr th {\n",
       "        vertical-align: top;\n",
       "    }\n",
       "\n",
       "    .dataframe thead th {\n",
       "        text-align: right;\n",
       "    }\n",
       "</style>\n",
       "<table border=\"1\" class=\"dataframe\">\n",
       "  <thead>\n",
       "    <tr style=\"text-align: right;\">\n",
       "      <th></th>\n",
       "      <th>Year</th>\n",
       "      <th>MAKE</th>\n",
       "      <th>MODEL</th>\n",
       "      <th>VEHICLE CLASS</th>\n",
       "      <th>ENGINE SIZE</th>\n",
       "      <th>CYLINDERS</th>\n",
       "      <th>TRANSMISSION</th>\n",
       "      <th>FUEL</th>\n",
       "      <th>FUEL CONSUMPTION</th>\n",
       "      <th>COEMISSIONS</th>\n",
       "    </tr>\n",
       "  </thead>\n",
       "  <tbody>\n",
       "    <tr>\n",
       "      <th>0</th>\n",
       "      <td>2000</td>\n",
       "      <td>ACURA</td>\n",
       "      <td>1.6EL</td>\n",
       "      <td>COMPACT</td>\n",
       "      <td>1.6</td>\n",
       "      <td>4</td>\n",
       "      <td>A4</td>\n",
       "      <td>X</td>\n",
       "      <td>10.5</td>\n",
       "      <td>216</td>\n",
       "    </tr>\n",
       "    <tr>\n",
       "      <th>1</th>\n",
       "      <td>2000</td>\n",
       "      <td>ACURA</td>\n",
       "      <td>1.6EL</td>\n",
       "      <td>COMPACT</td>\n",
       "      <td>1.6</td>\n",
       "      <td>4</td>\n",
       "      <td>M5</td>\n",
       "      <td>X</td>\n",
       "      <td>9.8</td>\n",
       "      <td>205</td>\n",
       "    </tr>\n",
       "    <tr>\n",
       "      <th>2</th>\n",
       "      <td>2000</td>\n",
       "      <td>ACURA</td>\n",
       "      <td>3.2TL</td>\n",
       "      <td>MID-SIZE</td>\n",
       "      <td>3.2</td>\n",
       "      <td>6</td>\n",
       "      <td>AS5</td>\n",
       "      <td>Z</td>\n",
       "      <td>13.7</td>\n",
       "      <td>265</td>\n",
       "    </tr>\n",
       "    <tr>\n",
       "      <th>3</th>\n",
       "      <td>2000</td>\n",
       "      <td>ACURA</td>\n",
       "      <td>3.5RL</td>\n",
       "      <td>MID-SIZE</td>\n",
       "      <td>3.5</td>\n",
       "      <td>6</td>\n",
       "      <td>A4</td>\n",
       "      <td>Z</td>\n",
       "      <td>15.0</td>\n",
       "      <td>301</td>\n",
       "    </tr>\n",
       "    <tr>\n",
       "      <th>4</th>\n",
       "      <td>2000</td>\n",
       "      <td>ACURA</td>\n",
       "      <td>INTEGRA</td>\n",
       "      <td>SUBCOMPACT</td>\n",
       "      <td>1.8</td>\n",
       "      <td>4</td>\n",
       "      <td>A4</td>\n",
       "      <td>X</td>\n",
       "      <td>11.4</td>\n",
       "      <td>230</td>\n",
       "    </tr>\n",
       "    <tr>\n",
       "      <th>...</th>\n",
       "      <td>...</td>\n",
       "      <td>...</td>\n",
       "      <td>...</td>\n",
       "      <td>...</td>\n",
       "      <td>...</td>\n",
       "      <td>...</td>\n",
       "      <td>...</td>\n",
       "      <td>...</td>\n",
       "      <td>...</td>\n",
       "      <td>...</td>\n",
       "    </tr>\n",
       "    <tr>\n",
       "      <th>634</th>\n",
       "      <td>2000</td>\n",
       "      <td>VOLVO</td>\n",
       "      <td>V70 AWD TURBO</td>\n",
       "      <td>STATION WAGON - MID-SIZE</td>\n",
       "      <td>2.4</td>\n",
       "      <td>5</td>\n",
       "      <td>A4</td>\n",
       "      <td>Z</td>\n",
       "      <td>14.4</td>\n",
       "      <td>288</td>\n",
       "    </tr>\n",
       "    <tr>\n",
       "      <th>635</th>\n",
       "      <td>2000</td>\n",
       "      <td>VOLVO</td>\n",
       "      <td>V70 GLT TURBO</td>\n",
       "      <td>STATION WAGON - MID-SIZE</td>\n",
       "      <td>2.4</td>\n",
       "      <td>5</td>\n",
       "      <td>A4</td>\n",
       "      <td>Z</td>\n",
       "      <td>13.6</td>\n",
       "      <td>274</td>\n",
       "    </tr>\n",
       "    <tr>\n",
       "      <th>636</th>\n",
       "      <td>2000</td>\n",
       "      <td>VOLVO</td>\n",
       "      <td>V70 T5 TURBO</td>\n",
       "      <td>STATION WAGON - MID-SIZE</td>\n",
       "      <td>2.3</td>\n",
       "      <td>5</td>\n",
       "      <td>A4</td>\n",
       "      <td>Z</td>\n",
       "      <td>13.9</td>\n",
       "      <td>274</td>\n",
       "    </tr>\n",
       "    <tr>\n",
       "      <th>637</th>\n",
       "      <td>2000</td>\n",
       "      <td>VOLVO</td>\n",
       "      <td>V70 T5 TURBO</td>\n",
       "      <td>STATION WAGON - MID-SIZE</td>\n",
       "      <td>2.3</td>\n",
       "      <td>5</td>\n",
       "      <td>M5</td>\n",
       "      <td>Z</td>\n",
       "      <td>13.0</td>\n",
       "      <td>260</td>\n",
       "    </tr>\n",
       "    <tr>\n",
       "      <th>638</th>\n",
       "      <td>2000</td>\n",
       "      <td>VOLVO</td>\n",
       "      <td>V70R AWD TURBO</td>\n",
       "      <td>STATION WAGON - MID-SIZE</td>\n",
       "      <td>2.4</td>\n",
       "      <td>5</td>\n",
       "      <td>A5</td>\n",
       "      <td>Z</td>\n",
       "      <td>14.7</td>\n",
       "      <td>299</td>\n",
       "    </tr>\n",
       "  </tbody>\n",
       "</table>\n",
       "<p>639 rows × 10 columns</p>\n",
       "</div>"
      ],
      "text/plain": [
       "     Year   MAKE           MODEL             VEHICLE CLASS  ENGINE SIZE  \\\n",
       "0    2000  ACURA           1.6EL                   COMPACT          1.6   \n",
       "1    2000  ACURA           1.6EL                   COMPACT          1.6   \n",
       "2    2000  ACURA           3.2TL                  MID-SIZE          3.2   \n",
       "3    2000  ACURA           3.5RL                  MID-SIZE          3.5   \n",
       "4    2000  ACURA         INTEGRA                SUBCOMPACT          1.8   \n",
       "..    ...    ...             ...                       ...          ...   \n",
       "634  2000  VOLVO   V70 AWD TURBO  STATION WAGON - MID-SIZE          2.4   \n",
       "635  2000  VOLVO   V70 GLT TURBO  STATION WAGON - MID-SIZE          2.4   \n",
       "636  2000  VOLVO    V70 T5 TURBO  STATION WAGON - MID-SIZE          2.3   \n",
       "637  2000  VOLVO    V70 T5 TURBO  STATION WAGON - MID-SIZE          2.3   \n",
       "638  2000  VOLVO  V70R AWD TURBO  STATION WAGON - MID-SIZE          2.4   \n",
       "\n",
       "     CYLINDERS TRANSMISSION FUEL  FUEL CONSUMPTION  COEMISSIONS   \n",
       "0            4           A4    X              10.5           216  \n",
       "1            4           M5    X               9.8           205  \n",
       "2            6          AS5    Z              13.7           265  \n",
       "3            6           A4    Z              15.0           301  \n",
       "4            4           A4    X              11.4           230  \n",
       "..         ...          ...  ...               ...           ...  \n",
       "634          5           A4    Z              14.4           288  \n",
       "635          5           A4    Z              13.6           274  \n",
       "636          5           A4    Z              13.9           274  \n",
       "637          5           M5    Z              13.0           260  \n",
       "638          5           A5    Z              14.7           299  \n",
       "\n",
       "[639 rows x 10 columns]"
      ]
     },
     "execution_count": 1,
     "metadata": {},
     "output_type": "execute_result"
    }
   ],
   "source": [
    "import pandas as pd\n",
    "\n",
    "data = pd.read_csv('./asset/FuelConsumption.csv')\n",
    "data"
   ]
  },
  {
   "cell_type": "markdown",
   "id": "23761c7b",
   "metadata": {},
   "source": [
    "앞의 데이터의 20개까지만 시각화를 해봤습니다  "
   ]
  },
  {
   "cell_type": "code",
   "execution_count": 2,
   "id": "0d6d2dbf",
   "metadata": {},
   "outputs": [],
   "source": [
    "X = data['ENGINE SIZE'].to_numpy()[:20]\n",
    "Y = data['COEMISSIONS '].to_numpy()[:20]"
   ]
  },
  {
   "cell_type": "code",
   "execution_count": 3,
   "id": "4c396ce0",
   "metadata": {},
   "outputs": [
    {
     "data": {
      "text/plain": [
       "array([1.6, 1.6, 3.2, 3.5, 1.8, 1.8, 1.8, 3. , 3.2, 1.8, 1.8, 2.8, 2.8,\n",
       "       1.8, 1.8, 2.8, 2.8, 2.8, 2.8, 2.7])"
      ]
     },
     "execution_count": 3,
     "metadata": {},
     "output_type": "execute_result"
    }
   ],
   "source": [
    "X"
   ]
  },
  {
   "cell_type": "code",
   "execution_count": 4,
   "id": "50698495",
   "metadata": {},
   "outputs": [
    {
     "data": {
      "text/plain": [
       "array([216, 205, 265, 301, 230, 219, 223, 306, 306, 251, 223, 285, 260,\n",
       "       267, 246, 292, 288, 294, 306, 304])"
      ]
     },
     "execution_count": 4,
     "metadata": {},
     "output_type": "execute_result"
    }
   ],
   "source": [
    "Y"
   ]
  },
  {
   "cell_type": "code",
   "execution_count": 5,
   "id": "23ea08b0",
   "metadata": {},
   "outputs": [
    {
     "data": {
      "image/png": "[encoded data removed]",
      "text/plain": [
       "<Figure size 432x288 with 1 Axes>"
      ]
     },
     "metadata": {
      "needs_background": "light"
     },
     "output_type": "display_data"
    }
   ],
   "source": [
    "import matplotlib.pyplot as plt\n",
    "\n",
    "plt.scatter(X, Y)\n",
    "plt.xlabel('ENGINE SIZE')\n",
    "plt.ylabel('COEMISSIONS')\n",
    "\n",
    "plt.show()"
   ]
  },
  {
   "cell_type": "markdown",
   "id": "3fb1c413",
   "metadata": {},
   "source": [
    "정규방정식을 사용하면 바로 답을 만들 수 있다는 것을 알 수 있지만  \n",
    "대신에 조금은 search하는 방식으로 접근을 해볼까 합니다   \n",
    "\n",
    "1. 아무 직선이나 하나선택\n",
    "2. 직선을 결정하는 $y = ax+b$에서 $a,b$를 변경  \n",
    "3. $a,b$의 변경 값에 따라서 MSE를 계산 후 MSE가 가장 작은 $a,b$를 선택\n",
    "\n",
    "이를 n번정도 반복을 합니다  "
   ]
  },
  {
   "cell_type": "code",
   "execution_count": 82,
   "id": "dcc568eb",
   "metadata": {},
   "outputs": [],
   "source": [
    "def GetEpisode():\n",
    "    episode = pd.DataFrame(columns  = ['w' , 'b' , 'MSE'])\n",
    "    episode.loc[0]  = [0.5, 0.5 , 9996]\n",
    "    episode.loc[1]  = [0.5, -0.5 , 9997]\n",
    "    episode.loc[2]  = [-0.5, 0.5 , 9998]\n",
    "    episode.loc[3]  = [-0.5, -0.5 , 9999]\n",
    "    return episode\n"
   ]
  },
  {
   "cell_type": "code",
   "execution_count": 83,
   "id": "8c4060d9",
   "metadata": {},
   "outputs": [],
   "source": [
    "def MSE(w, b,target):\n",
    "    Sum=0.00\n",
    "    for i in range(len(X)):\n",
    "        y_hat=X[i]*w+b\n",
    "        Sum+=(target[i] - y_hat)**2\n",
    "    mse = Sum / len(X)\n",
    "    return mse"
   ]
  },
  {
   "cell_type": "code",
   "execution_count": 84,
   "id": "e0df6a07",
   "metadata": {},
   "outputs": [
    {
     "data": {
      "text/html": [
       "<div>\n",
       "<style scoped>\n",
       "    .dataframe tbody tr th:only-of-type {\n",
       "        vertical-align: middle;\n",
       "    }\n",
       "\n",
       "    .dataframe tbody tr th {\n",
       "        vertical-align: top;\n",
       "    }\n",
       "\n",
       "    .dataframe thead th {\n",
       "        text-align: right;\n",
       "    }\n",
       "</style>\n",
       "<table border=\"1\" class=\"dataframe\">\n",
       "  <thead>\n",
       "    <tr style=\"text-align: right;\">\n",
       "      <th></th>\n",
       "      <th>w</th>\n",
       "      <th>b</th>\n",
       "      <th>MSE</th>\n",
       "    </tr>\n",
       "  </thead>\n",
       "  <tbody>\n",
       "    <tr>\n",
       "      <th>0</th>\n",
       "      <td>0.5</td>\n",
       "      <td>0.5</td>\n",
       "      <td>9996.0</td>\n",
       "    </tr>\n",
       "    <tr>\n",
       "      <th>1</th>\n",
       "      <td>0.5</td>\n",
       "      <td>-0.5</td>\n",
       "      <td>9997.0</td>\n",
       "    </tr>\n",
       "    <tr>\n",
       "      <th>2</th>\n",
       "      <td>-0.5</td>\n",
       "      <td>0.5</td>\n",
       "      <td>9998.0</td>\n",
       "    </tr>\n",
       "    <tr>\n",
       "      <th>3</th>\n",
       "      <td>-0.5</td>\n",
       "      <td>-0.5</td>\n",
       "      <td>9999.0</td>\n",
       "    </tr>\n",
       "  </tbody>\n",
       "</table>\n",
       "</div>"
      ],
      "text/plain": [
       "     w    b     MSE\n",
       "0  0.5  0.5  9996.0\n",
       "1  0.5 -0.5  9997.0\n",
       "2 -0.5  0.5  9998.0\n",
       "3 -0.5 -0.5  9999.0"
      ]
     },
     "execution_count": 84,
     "metadata": {},
     "output_type": "execute_result"
    }
   ],
   "source": [
    "GetEpisode()"
   ]
  },
  {
   "cell_type": "code",
   "execution_count": 85,
   "id": "caf26412",
   "metadata": {},
   "outputs": [],
   "source": [
    "W = 59\n",
    "B = 160"
   ]
  },
  {
   "cell_type": "code",
   "execution_count": 86,
   "id": "0f8fe98a",
   "metadata": {},
   "outputs": [
    {
     "data": {
      "text/html": [
       "<div>\n",
       "<style scoped>\n",
       "    .dataframe tbody tr th:only-of-type {\n",
       "        vertical-align: middle;\n",
       "    }\n",
       "\n",
       "    .dataframe tbody tr th {\n",
       "        vertical-align: top;\n",
       "    }\n",
       "\n",
       "    .dataframe thead th {\n",
       "        text-align: right;\n",
       "    }\n",
       "</style>\n",
       "<table border=\"1\" class=\"dataframe\">\n",
       "  <thead>\n",
       "    <tr style=\"text-align: right;\">\n",
       "      <th></th>\n",
       "      <th>w</th>\n",
       "      <th>b</th>\n",
       "      <th>MSE</th>\n",
       "    </tr>\n",
       "  </thead>\n",
       "  <tbody>\n",
       "    <tr>\n",
       "      <th>0</th>\n",
       "      <td>0.5</td>\n",
       "      <td>0.5</td>\n",
       "      <td>1929.37825</td>\n",
       "    </tr>\n",
       "    <tr>\n",
       "      <th>1</th>\n",
       "      <td>0.5</td>\n",
       "      <td>-0.5</td>\n",
       "      <td>1851.28825</td>\n",
       "    </tr>\n",
       "    <tr>\n",
       "      <th>2</th>\n",
       "      <td>-0.5</td>\n",
       "      <td>0.5</td>\n",
       "      <td>1735.92425</td>\n",
       "    </tr>\n",
       "    <tr>\n",
       "      <th>3</th>\n",
       "      <td>-0.5</td>\n",
       "      <td>-0.5</td>\n",
       "      <td>1662.65425</td>\n",
       "    </tr>\n",
       "  </tbody>\n",
       "</table>\n",
       "</div>"
      ],
      "text/plain": [
       "     w    b         MSE\n",
       "0  0.5  0.5  1929.37825\n",
       "1  0.5 -0.5  1851.28825\n",
       "2 -0.5  0.5  1735.92425\n",
       "3 -0.5 -0.5  1662.65425"
      ]
     },
     "execution_count": 86,
     "metadata": {},
     "output_type": "execute_result"
    }
   ],
   "source": [
    "episode = GetEpisode()\n",
    "for x in episode.index:\n",
    "    w = episode.loc[x,'w']\n",
    "    b = episode.loc[x,'b']\n",
    "    episode.loc[x , 'MSE'] = MSE(W+w,B+b , Y)\n",
    "episode"
   ]
  },
  {
   "cell_type": "code",
   "execution_count": 87,
   "id": "f85cbd40",
   "metadata": {},
   "outputs": [
    {
     "data": {
      "text/plain": [
       "(-0.5, -0.5)"
      ]
     },
     "execution_count": 87,
     "metadata": {},
     "output_type": "execute_result"
    }
   ],
   "source": [
    "episode.nsmallest(1,'MSE')['w'].item() , episode.nsmallest(1,'MSE')['b'].item()\n"
   ]
  },
  {
   "cell_type": "code",
   "execution_count": 88,
   "id": "ad318482",
   "metadata": {},
   "outputs": [
    {
     "data": {
      "image/png": "[encoded data removed]",
      "text/plain": [
       "<Figure size 432x288 with 1 Axes>"
      ]
     },
     "metadata": {
      "needs_background": "light"
     },
     "output_type": "display_data"
    }
   ],
   "source": [
    "episode = GetEpisode()\n",
    "plt.scatter(X, Y)\n",
    "plt.plot(X, W * X + B, color='red', label='Initial Line')\n",
    "\n",
    "# episode 반복하여 MSE가 최소가 되는 w, b 찾기\n",
    "for _ in range(5):\n",
    "    for x in episode.index:\n",
    "        w = episode.loc[x, 'w']\n",
    "        b = episode.loc[x, 'b']\n",
    "        episode.loc[x, 'MSE'] = MSE(W + w, B + b,  Y)\n",
    "    \n",
    "    # 최소 MSE에 해당하는 w, b 찾기\n",
    "    min_mse_idx = episode['MSE'].idxmin()\n",
    "    min_w = episode.loc[min_mse_idx, 'w']\n",
    "    min_b = episode.loc[min_mse_idx, 'b']\n",
    "    \n",
    "    # MSE가 최소가 되는 직선 그리기\n",
    "    plt.plot(X, (W + min_w) * X + (B + min_b), linestyle='--', label=f'Iteration {_+1}')\n",
    "    \n",
    "    # w, b 갱신\n",
    "    W += min_w\n",
    "    B += min_b\n",
    "\n",
    "plt.legend()\n",
    "plt.xlabel('X')\n",
    "plt.ylabel('Y')\n",
    "plt.title('Linear Regression with Gradient Descent')\n",
    "plt.show()"
   ]
  },
  {
   "cell_type": "code",
   "execution_count": 89,
   "id": "37a58ca0",
   "metadata": {},
   "outputs": [
    {
     "data": {
      "application/vnd.plotly.v1+json": {
       "config": {
        "plotlyServerURL": "https://plot.ly"
       },
       "data": [
        {
         "marker": {
          "color": "blue"
         },
         "mode": "markers",
         "name": "Data Points",
         "type": "scatter",
         "x": [
          1.6,
          1.6,
          3.2,
          3.5,
          1.8,
          1.8,
          1.8,
          3,
          3.2,
          1.8,
          1.8,
          2.8,
          2.8,
          1.8,
          1.8,
          2.8,
          2.8,
          2.8,
          2.8,
          2.7
         ],
         "y": [
          216,
          205,
          265,
          301,
          230,
          219,
          223,
          306,
          306,
          251,
          223,
          285,
          260,
          267,
          246,
          292,
          288,
          294,
          306,
          304
         ]
        },
        {
         "line": {
          "color": "red"
         },
         "mode": "lines",
         "name": "Initial Line",
         "type": "scatter",
         "x": [
          1.6,
          1.6,
          3.2,
          3.5,
          1.8,
          1.8,
          1.8,
          3,
          3.2,
          1.8,
          1.8,
          2.8,
          2.8,
          1.8,
          1.8,
          2.8,
          2.8,
          2.8,
          2.8,
          2.7
         ],
         "y": [
          247.9,
          247.9,
          338.3,
          355.25,
          259.2,
          259.2,
          259.2,
          327,
          338.3,
          259.2,
          259.2,
          315.7,
          315.7,
          259.2,
          259.2,
          315.7,
          315.7,
          315.7,
          315.7,
          310.05
         ]
        },
        {
         "line": {
          "color": "blue",
          "dash": "dash"
         },
         "mode": "lines",
         "name": "Iteration 1",
         "type": "scatter",
         "x": [
          1.6,
          1.6,
          3.2,
          3.5,
          1.8,
          1.8,
          1.8,
          3,
          3.2,
          1.8,
          1.8,
          2.8,
          2.8,
          1.8,
          1.8,
          2.8,
          2.8,
          2.8,
          2.8,
          2.7
         ],
         "y": [
          246.60000000000002,
          246.60000000000002,
          336.20000000000005,
          353,
          257.8,
          257.8,
          257.8,
          325,
          336.20000000000005,
          257.8,
          257.8,
          313.79999999999995,
          313.79999999999995,
          257.8,
          257.8,
          313.79999999999995,
          313.79999999999995,
          313.79999999999995,
          313.79999999999995,
          308.20000000000005
         ]
        },
        {
         "line": {
          "color": "blue",
          "dash": "dash"
         },
         "mode": "lines",
         "name": "Iteration 2",
         "type": "scatter",
         "x": [
          1.6,
          1.6,
          3.2,
          3.5,
          1.8,
          1.8,
          1.8,
          3,
          3.2,
          1.8,
          1.8,
          2.8,
          2.8,
          1.8,
          1.8,
          2.8,
          2.8,
          2.8,
          2.8,
          2.7
         ],
         "y": [
          245.3,
          245.3,
          334.1,
          350.75,
          256.4,
          256.4,
          256.4,
          323,
          334.1,
          256.4,
          256.4,
          311.9,
          311.9,
          256.4,
          256.4,
          311.9,
          311.9,
          311.9,
          311.9,
          306.35
         ]
        },
        {
         "line": {
          "color": "blue",
          "dash": "dash"
         },
         "mode": "lines",
         "name": "Iteration 3",
         "type": "scatter",
         "x": [
          1.6,
          1.6,
          3.2,
          3.5,
          1.8,
          1.8,
          1.8,
          3,
          3.2,
          1.8,
          1.8,
          2.8,
          2.8,
          1.8,
          1.8,
          2.8,
          2.8,
          2.8,
          2.8,
          2.7
         ],
         "y": [
          244,
          244,
          332,
          348.5,
          255,
          255,
          255,
          321,
          332,
          255,
          255,
          310,
          310,
          255,
          255,
          310,
          310,
          310,
          310,
          304.5
         ]
        },
        {
         "line": {
          "color": "blue",
          "dash": "dash"
         },
         "mode": "lines",
         "name": "Iteration 4",
         "type": "scatter",
         "x": [
          1.6,
          1.6,
          3.2,
          3.5,
          1.8,
          1.8,
          1.8,
          3,
          3.2,
          1.8,
          1.8,
          2.8,
          2.8,
          1.8,
          1.8,
          2.8,
          2.8,
          2.8,
          2.8,
          2.7
         ],
         "y": [
          242.7,
          242.7,
          329.9,
          346.25,
          253.60000000000002,
          253.60000000000002,
          253.60000000000002,
          319,
          329.9,
          253.60000000000002,
          253.60000000000002,
          308.1,
          308.1,
          253.60000000000002,
          253.60000000000002,
          308.1,
          308.1,
          308.1,
          308.1,
          302.65
         ]
        },
        {
         "line": {
          "color": "blue",
          "dash": "dash"
         },
         "mode": "lines",
         "name": "Iteration 5",
         "type": "scatter",
         "x": [
          1.6,
          1.6,
          3.2,
          3.5,
          1.8,
          1.8,
          1.8,
          3,
          3.2,
          1.8,
          1.8,
          2.8,
          2.8,
          1.8,
          1.8,
          2.8,
          2.8,
          2.8,
          2.8,
          2.7
         ],
         "y": [
          241.4,
          241.4,
          327.8,
          344,
          252.2,
          252.2,
          252.2,
          317,
          327.8,
          252.2,
          252.2,
          306.2,
          306.2,
          252.2,
          252.2,
          306.2,
          306.2,
          306.2,
          306.2,
          300.8
         ]
        }
       ],
       "layout": {
        "template": {
         "data": {
          "bar": [
           {
            "error_x": {
             "color": "#2a3f5f"
            },
            "error_y": {
             "color": "#2a3f5f"
            },
            "marker": {
             "line": {
              "color": "#E5ECF6",
              "width": 0.5
             },
             "pattern": {
              "fillmode": "overlay",
              "size": 10,
              "solidity": 0.2
             }
            },
            "type": "bar"
           }
          ],
          "barpolar": [
           {
            "marker": {
             "line": {
              "color": "#E5ECF6",
              "width": 0.5
             },
             "pattern": {
              "fillmode": "overlay",
              "size": 10,
              "solidity": 0.2
             }
            },
            "type": "barpolar"
           }
          ],
          "carpet": [
           {
            "aaxis": {
             "endlinecolor": "#2a3f5f",
             "gridcolor": "white",
             "linecolor": "white",
             "minorgridcolor": "white",
             "startlinecolor": "#2a3f5f"
            },
            "baxis": {
             "endlinecolor": "#2a3f5f",
             "gridcolor": "white",
             "linecolor": "white",
             "minorgridcolor": "white",
             "startlinecolor": "#2a3f5f"
            },
            "type": "carpet"
           }
          ],
          "choropleth": [
           {
            "colorbar": {
             "outlinewidth": 0,
             "ticks": ""
            },
            "type": "choropleth"
           }
          ],
          "contour": [
           {
            "colorbar": {
             "outlinewidth": 0,
             "ticks": ""
            },
            "colorscale": [
             [
              0,
              "#0d0887"
             ],
             [
              0.1111111111111111,
              "#46039f"
             ],
             [
              0.2222222222222222,
              "#7201a8"
             ],
             [
              0.3333333333333333,
              "#9c179e"
             ],
             [
              0.4444444444444444,
              "#bd3786"
             ],
             [
              0.5555555555555556,
              "#d8576b"
             ],
             [
              0.6666666666666666,
              "#ed7953"
             ],
             [
              0.7777777777777778,
              "#fb9f3a"
             ],
             [
              0.8888888888888888,
              "#fdca26"
             ],
             [
              1,
              "#f0f921"
             ]
            ],
            "type": "contour"
           }
          ],
          "contourcarpet": [
           {
            "colorbar": {
             "outlinewidth": 0,
             "ticks": ""
            },
            "type": "contourcarpet"
           }
          ],
          "heatmap": [
           {
            "colorbar": {
             "outlinewidth": 0,
             "ticks": ""
            },
            "colorscale": [
             [
              0,
              "#0d0887"
             ],
             [
              0.1111111111111111,
              "#46039f"
             ],
             [
              0.2222222222222222,
              "#7201a8"
             ],
             [
              0.3333333333333333,
              "#9c179e"
             ],
             [
              0.4444444444444444,
              "#bd3786"
             ],
             [
              0.5555555555555556,
              "#d8576b"
             ],
             [
              0.6666666666666666,
              "#ed7953"
             ],
             [
              0.7777777777777778,
              "#fb9f3a"
             ],
             [
              0.8888888888888888,
              "#fdca26"
             ],
             [
              1,
              "#f0f921"
             ]
            ],
            "type": "heatmap"
           }
          ],
          "heatmapgl": [
           {
            "colorbar": {
             "outlinewidth": 0,
             "ticks": ""
            },
            "colorscale": [
             [
              0,
              "#0d0887"
             ],
             [
              0.1111111111111111,
              "#46039f"
             ],
             [
              0.2222222222222222,
              "#7201a8"
             ],
             [
              0.3333333333333333,
              "#9c179e"
             ],
             [
              0.4444444444444444,
              "#bd3786"
             ],
             [
              0.5555555555555556,
              "#d8576b"
             ],
             [
              0.6666666666666666,
              "#ed7953"
             ],
             [
              0.7777777777777778,
              "#fb9f3a"
             ],
             [
              0.8888888888888888,
              "#fdca26"
             ],
             [
              1,
              "#f0f921"
             ]
            ],
            "type": "heatmapgl"
           }
          ],
          "histogram": [
           {
            "marker": {
             "pattern": {
              "fillmode": "overlay",
              "size": 10,
              "solidity": 0.2
             }
            },
            "type": "histogram"
           }
          ],
          "histogram2d": [
           {
            "colorbar": {
             "outlinewidth": 0,
             "ticks": ""
            },
            "colorscale": [
             [
              0,
              "#0d0887"
             ],
             [
              0.1111111111111111,
              "#46039f"
             ],
             [
              0.2222222222222222,
              "#7201a8"
             ],
             [
              0.3333333333333333,
              "#9c179e"
             ],
             [
              0.4444444444444444,
              "#bd3786"
             ],
             [
              0.5555555555555556,
              "#d8576b"
             ],
             [
              0.6666666666666666,
              "#ed7953"
             ],
             [
              0.7777777777777778,
              "#fb9f3a"
             ],
             [
              0.8888888888888888,
              "#fdca26"
             ],
             [
              1,
              "#f0f921"
             ]
            ],
            "type": "histogram2d"
           }
          ],
          "histogram2dcontour": [
           {
            "colorbar": {
             "outlinewidth": 0,
             "ticks": ""
            },
            "colorscale": [
             [
              0,
              "#0d0887"
             ],
             [
              0.1111111111111111,
              "#46039f"
             ],
             [
              0.2222222222222222,
              "#7201a8"
             ],
             [
              0.3333333333333333,
              "#9c179e"
             ],
             [
              0.4444444444444444,
              "#bd3786"
             ],
             [
              0.5555555555555556,
              "#d8576b"
             ],
             [
              0.6666666666666666,
              "#ed7953"
             ],
             [
              0.7777777777777778,
              "#fb9f3a"
             ],
             [
              0.8888888888888888,
              "#fdca26"
             ],
             [
              1,
              "#f0f921"
             ]
            ],
            "type": "histogram2dcontour"
           }
          ],
          "mesh3d": [
           {
            "colorbar": {
             "outlinewidth": 0,
             "ticks": ""
            },
            "type": "mesh3d"
           }
          ],
          "parcoords": [
           {
            "line": {
             "colorbar": {
              "outlinewidth": 0,
              "ticks": ""
             }
            },
            "type": "parcoords"
           }
          ],
          "pie": [
           {
            "automargin": true,
            "type": "pie"
           }
          ],
          "scatter": [
           {
            "fillpattern": {
             "fillmode": "overlay",
             "size": 10,
             "solidity": 0.2
            },
            "type": "scatter"
           }
          ],
          "scatter3d": [
           {
            "line": {
             "colorbar": {
              "outlinewidth": 0,
              "ticks": ""
             }
            },
            "marker": {
             "colorbar": {
              "outlinewidth": 0,
              "ticks": ""
             }
            },
            "type": "scatter3d"
           }
          ],
          "scattercarpet": [
           {
            "marker": {
             "colorbar": {
              "outlinewidth": 0,
              "ticks": ""
             }
            },
            "type": "scattercarpet"
           }
          ],
          "scattergeo": [
           {
            "marker": {
             "colorbar": {
              "outlinewidth": 0,
              "ticks": ""
             }
            },
            "type": "scattergeo"
           }
          ],
          "scattergl": [
           {
            "marker": {
             "colorbar": {
              "outlinewidth": 0,
              "ticks": ""
             }
            },
            "type": "scattergl"
           }
          ],
          "scattermapbox": [
           {
            "marker": {
             "colorbar": {
              "outlinewidth": 0,
              "ticks": ""
             }
            },
            "type": "scattermapbox"
           }
          ],
          "scatterpolar": [
           {
            "marker": {
             "colorbar": {
              "outlinewidth": 0,
              "ticks": ""
             }
            },
            "type": "scatterpolar"
           }
          ],
          "scatterpolargl": [
           {
            "marker": {
             "colorbar": {
              "outlinewidth": 0,
              "ticks": ""
             }
            },
            "type": "scatterpolargl"
           }
          ],
          "scatterternary": [
           {
            "marker": {
             "colorbar": {
              "outlinewidth": 0,
              "ticks": ""
             }
            },
            "type": "scatterternary"
           }
          ],
          "surface": [
           {
            "colorbar": {
             "outlinewidth": 0,
             "ticks": ""
            },
            "colorscale": [
             [
              0,
              "#0d0887"
             ],
             [
              0.1111111111111111,
              "#46039f"
             ],
             [
              0.2222222222222222,
              "#7201a8"
             ],
             [
              0.3333333333333333,
              "#9c179e"
             ],
             [
              0.4444444444444444,
              "#bd3786"
             ],
             [
              0.5555555555555556,
              "#d8576b"
             ],
             [
              0.6666666666666666,
              "#ed7953"
             ],
             [
              0.7777777777777778,
              "#fb9f3a"
             ],
             [
              0.8888888888888888,
              "#fdca26"
             ],
             [
              1,
              "#f0f921"
             ]
            ],
            "type": "surface"
           }
          ],
          "table": [
           {
            "cells": {
             "fill": {
              "color": "#EBF0F8"
             },
             "line": {
              "color": "white"
             }
            },
            "header": {
             "fill": {
              "color": "#C8D4E3"
             },
             "line": {
              "color": "white"
             }
            },
            "type": "table"
           }
          ]
         },
         "layout": {
          "annotationdefaults": {
           "arrowcolor": "#2a3f5f",
           "arrowhead": 0,
           "arrowwidth": 1
          },
          "autotypenumbers": "strict",
          "coloraxis": {
           "colorbar": {
            "outlinewidth": 0,
            "ticks": ""
           }
          },
          "colorscale": {
           "diverging": [
            [
             0,
             "#8e0152"
            ],
            [
             0.1,
             "#c51b7d"
            ],
            [
             0.2,
             "#de77ae"
            ],
            [
             0.3,
             "#f1b6da"
            ],
            [
             0.4,
             "#fde0ef"
            ],
            [
             0.5,
             "#f7f7f7"
            ],
            [
             0.6,
             "#e6f5d0"
            ],
            [
             0.7,
             "#b8e186"
            ],
            [
             0.8,
             "#7fbc41"
            ],
            [
             0.9,
             "#4d9221"
            ],
            [
             1,
             "#276419"
            ]
           ],
           "sequential": [
            [
             0,
             "#0d0887"
            ],
            [
             0.1111111111111111,
             "#46039f"
            ],
            [
             0.2222222222222222,
             "#7201a8"
            ],
            [
             0.3333333333333333,
             "#9c179e"
            ],
            [
             0.4444444444444444,
             "#bd3786"
            ],
            [
             0.5555555555555556,
             "#d8576b"
            ],
            [
             0.6666666666666666,
             "#ed7953"
            ],
            [
             0.7777777777777778,
             "#fb9f3a"
            ],
            [
             0.8888888888888888,
             "#fdca26"
            ],
            [
             1,
             "#f0f921"
            ]
           ],
           "sequentialminus": [
            [
             0,
             "#0d0887"
            ],
            [
             0.1111111111111111,
             "#46039f"
            ],
            [
             0.2222222222222222,
             "#7201a8"
            ],
            [
             0.3333333333333333,
             "#9c179e"
            ],
            [
             0.4444444444444444,
             "#bd3786"
            ],
            [
             0.5555555555555556,
             "#d8576b"
            ],
            [
             0.6666666666666666,
             "#ed7953"
            ],
            [
             0.7777777777777778,
             "#fb9f3a"
            ],
            [
             0.8888888888888888,
             "#fdca26"
            ],
            [
             1,
             "#f0f921"
            ]
           ]
          },
          "colorway": [
           "#636efa",
           "#EF553B",
           "#00cc96",
           "#ab63fa",
           "#FFA15A",
           "#19d3f3",
           "#FF6692",
           "#B6E880",
           "#FF97FF",
           "#FECB52"
          ],
          "font": {
           "color": "#2a3f5f"
          },
          "geo": {
           "bgcolor": "white",
           "lakecolor": "white",
           "landcolor": "#E5ECF6",
           "showlakes": true,
           "showland": true,
           "subunitcolor": "white"
          },
          "hoverlabel": {
           "align": "left"
          },
          "hovermode": "closest",
          "mapbox": {
           "style": "light"
          },
          "paper_bgcolor": "white",
          "plot_bgcolor": "#E5ECF6",
          "polar": {
           "angularaxis": {
            "gridcolor": "white",
            "linecolor": "white",
            "ticks": ""
           },
           "bgcolor": "#E5ECF6",
           "radialaxis": {
            "gridcolor": "white",
            "linecolor": "white",
            "ticks": ""
           }
          },
          "scene": {
           "xaxis": {
            "backgroundcolor": "#E5ECF6",
            "gridcolor": "white",
            "gridwidth": 2,
            "linecolor": "white",
            "showbackground": true,
            "ticks": "",
            "zerolinecolor": "white"
           },
           "yaxis": {
            "backgroundcolor": "#E5ECF6",
            "gridcolor": "white",
            "gridwidth": 2,
            "linecolor": "white",
            "showbackground": true,
            "ticks": "",
            "zerolinecolor": "white"
           },
           "zaxis": {
            "backgroundcolor": "#E5ECF6",
            "gridcolor": "white",
            "gridwidth": 2,
            "linecolor": "white",
            "showbackground": true,
            "ticks": "",
            "zerolinecolor": "white"
           }
          },
          "shapedefaults": {
           "line": {
            "color": "#2a3f5f"
           }
          },
          "ternary": {
           "aaxis": {
            "gridcolor": "white",
            "linecolor": "white",
            "ticks": ""
           },
           "baxis": {
            "gridcolor": "white",
            "linecolor": "white",
            "ticks": ""
           },
           "bgcolor": "#E5ECF6",
           "caxis": {
            "gridcolor": "white",
            "linecolor": "white",
            "ticks": ""
           }
          },
          "title": {
           "x": 0.05
          },
          "xaxis": {
           "automargin": true,
           "gridcolor": "white",
           "linecolor": "white",
           "ticks": "",
           "title": {
            "standoff": 15
           },
           "zerolinecolor": "white",
           "zerolinewidth": 2
          },
          "yaxis": {
           "automargin": true,
           "gridcolor": "white",
           "linecolor": "white",
           "ticks": "",
           "title": {
            "standoff": 15
           },
           "zerolinecolor": "white",
           "zerolinewidth": 2
          }
         }
        },
        "title": {
         "text": "Linear Regression with Gradient Descent"
        },
        "xaxis": {
         "title": {
          "text": "X"
         }
        },
        "yaxis": {
         "title": {
          "text": "Y"
         }
        }
       }
      },
      "text/html": [
       "<div>                            <div id=\"175fa5ba-0dc5-4ae1-8918-5a207b92b233\" class=\"plotly-graph-div\" style=\"height:525px; width:100%;\"></div>            <script type=\"text/javascript\">                require([\"plotly\"], function(Plotly) {                    window.PLOTLYENV=window.PLOTLYENV || {};                                    if (document.getElementById(\"175fa5ba-0dc5-4ae1-8918-5a207b92b233\")) {                    Plotly.newPlot(                        \"175fa5ba-0dc5-4ae1-8918-5a207b92b233\",                        [{\"marker\":{\"color\":\"blue\"},\"mode\":\"markers\",\"name\":\"Data Points\",\"x\":[1.6,1.6,3.2,3.5,1.8,1.8,1.8,3.0,3.2,1.8,1.8,2.8,2.8,1.8,1.8,2.8,2.8,2.8,2.8,2.7],\"y\":[216,205,265,301,230,219,223,306,306,251,223,285,260,267,246,292,288,294,306,304],\"type\":\"scatter\"},{\"line\":{\"color\":\"red\"},\"mode\":\"lines\",\"name\":\"Initial Line\",\"x\":[1.6,1.6,3.2,3.5,1.8,1.8,1.8,3.0,3.2,1.8,1.8,2.8,2.8,1.8,1.8,2.8,2.8,2.8,2.8,2.7],\"y\":[247.9,247.9,338.3,355.25,259.2,259.2,259.2,327.0,338.3,259.2,259.2,315.7,315.7,259.2,259.2,315.7,315.7,315.7,315.7,310.05],\"type\":\"scatter\"},{\"line\":{\"color\":\"blue\",\"dash\":\"dash\"},\"mode\":\"lines\",\"name\":\"Iteration 1\",\"x\":[1.6,1.6,3.2,3.5,1.8,1.8,1.8,3.0,3.2,1.8,1.8,2.8,2.8,1.8,1.8,2.8,2.8,2.8,2.8,2.7],\"y\":[246.60000000000002,246.60000000000002,336.20000000000005,353.0,257.8,257.8,257.8,325.0,336.20000000000005,257.8,257.8,313.79999999999995,313.79999999999995,257.8,257.8,313.79999999999995,313.79999999999995,313.79999999999995,313.79999999999995,308.20000000000005],\"type\":\"scatter\"},{\"line\":{\"color\":\"blue\",\"dash\":\"dash\"},\"mode\":\"lines\",\"name\":\"Iteration 2\",\"x\":[1.6,1.6,3.2,3.5,1.8,1.8,1.8,3.0,3.2,1.8,1.8,2.8,2.8,1.8,1.8,2.8,2.8,2.8,2.8,2.7],\"y\":[245.3,245.3,334.1,350.75,256.4,256.4,256.4,323.0,334.1,256.4,256.4,311.9,311.9,256.4,256.4,311.9,311.9,311.9,311.9,306.35],\"type\":\"scatter\"},{\"line\":{\"color\":\"blue\",\"dash\":\"dash\"},\"mode\":\"lines\",\"name\":\"Iteration 3\",\"x\":[1.6,1.6,3.2,3.5,1.8,1.8,1.8,3.0,3.2,1.8,1.8,2.8,2.8,1.8,1.8,2.8,2.8,2.8,2.8,2.7],\"y\":[244.0,244.0,332.0,348.5,255.0,255.0,255.0,321.0,332.0,255.0,255.0,310.0,310.0,255.0,255.0,310.0,310.0,310.0,310.0,304.5],\"type\":\"scatter\"},{\"line\":{\"color\":\"blue\",\"dash\":\"dash\"},\"mode\":\"lines\",\"name\":\"Iteration 4\",\"x\":[1.6,1.6,3.2,3.5,1.8,1.8,1.8,3.0,3.2,1.8,1.8,2.8,2.8,1.8,1.8,2.8,2.8,2.8,2.8,2.7],\"y\":[242.7,242.7,329.9,346.25,253.60000000000002,253.60000000000002,253.60000000000002,319.0,329.9,253.60000000000002,253.60000000000002,308.1,308.1,253.60000000000002,253.60000000000002,308.1,308.1,308.1,308.1,302.65],\"type\":\"scatter\"},{\"line\":{\"color\":\"blue\",\"dash\":\"dash\"},\"mode\":\"lines\",\"name\":\"Iteration 5\",\"x\":[1.6,1.6,3.2,3.5,1.8,1.8,1.8,3.0,3.2,1.8,1.8,2.8,2.8,1.8,1.8,2.8,2.8,2.8,2.8,2.7],\"y\":[241.4,241.4,327.8,344.0,252.2,252.2,252.2,317.0,327.8,252.2,252.2,306.2,306.2,252.2,252.2,306.2,306.2,306.2,306.2,300.8],\"type\":\"scatter\"}],                        {\"template\":{\"data\":{\"histogram2dcontour\":[{\"type\":\"histogram2dcontour\",\"colorbar\":{\"outlinewidth\":0,\"ticks\":\"\"},\"colorscale\":[[0.0,\"#0d0887\"],[0.1111111111111111,\"#46039f\"],[0.2222222222222222,\"#7201a8\"],[0.3333333333333333,\"#9c179e\"],[0.4444444444444444,\"#bd3786\"],[0.5555555555555556,\"#d8576b\"],[0.6666666666666666,\"#ed7953\"],[0.7777777777777778,\"#fb9f3a\"],[0.8888888888888888,\"#fdca26\"],[1.0,\"#f0f921\"]]}],\"choropleth\":[{\"type\":\"choropleth\",\"colorbar\":{\"outlinewidth\":0,\"ticks\":\"\"}}],\"histogram2d\":[{\"type\":\"histogram2d\",\"colorbar\":{\"outlinewidth\":0,\"ticks\":\"\"},\"colorscale\":[[0.0,\"#0d0887\"],[0.1111111111111111,\"#46039f\"],[0.2222222222222222,\"#7201a8\"],[0.3333333333333333,\"#9c179e\"],[0.4444444444444444,\"#bd3786\"],[0.5555555555555556,\"#d8576b\"],[0.6666666666666666,\"#ed7953\"],[0.7777777777777778,\"#fb9f3a\"],[0.8888888888888888,\"#fdca26\"],[1.0,\"#f0f921\"]]}],\"heatmap\":[{\"type\":\"heatmap\",\"colorbar\":{\"outlinewidth\":0,\"ticks\":\"\"},\"colorscale\":[[0.0,\"#0d0887\"],[0.1111111111111111,\"#46039f\"],[0.2222222222222222,\"#7201a8\"],[0.3333333333333333,\"#9c179e\"],[0.4444444444444444,\"#bd3786\"],[0.5555555555555556,\"#d8576b\"],[0.6666666666666666,\"#ed7953\"],[0.7777777777777778,\"#fb9f3a\"],[0.8888888888888888,\"#fdca26\"],[1.0,\"#f0f921\"]]}],\"heatmapgl\":[{\"type\":\"heatmapgl\",\"colorbar\":{\"outlinewidth\":0,\"ticks\":\"\"},\"colorscale\":[[0.0,\"#0d0887\"],[0.1111111111111111,\"#46039f\"],[0.2222222222222222,\"#7201a8\"],[0.3333333333333333,\"#9c179e\"],[0.4444444444444444,\"#bd3786\"],[0.5555555555555556,\"#d8576b\"],[0.6666666666666666,\"#ed7953\"],[0.7777777777777778,\"#fb9f3a\"],[0.8888888888888888,\"#fdca26\"],[1.0,\"#f0f921\"]]}],\"contourcarpet\":[{\"type\":\"contourcarpet\",\"colorbar\":{\"outlinewidth\":0,\"ticks\":\"\"}}],\"contour\":[{\"type\":\"contour\",\"colorbar\":{\"outlinewidth\":0,\"ticks\":\"\"},\"colorscale\":[[0.0,\"#0d0887\"],[0.1111111111111111,\"#46039f\"],[0.2222222222222222,\"#7201a8\"],[0.3333333333333333,\"#9c179e\"],[0.4444444444444444,\"#bd3786\"],[0.5555555555555556,\"#d8576b\"],[0.6666666666666666,\"#ed7953\"],[0.7777777777777778,\"#fb9f3a\"],[0.8888888888888888,\"#fdca26\"],[1.0,\"#f0f921\"]]}],\"surface\":[{\"type\":\"surface\",\"colorbar\":{\"outlinewidth\":0,\"ticks\":\"\"},\"colorscale\":[[0.0,\"#0d0887\"],[0.1111111111111111,\"#46039f\"],[0.2222222222222222,\"#7201a8\"],[0.3333333333333333,\"#9c179e\"],[0.4444444444444444,\"#bd3786\"],[0.5555555555555556,\"#d8576b\"],[0.6666666666666666,\"#ed7953\"],[0.7777777777777778,\"#fb9f3a\"],[0.8888888888888888,\"#fdca26\"],[1.0,\"#f0f921\"]]}],\"mesh3d\":[{\"type\":\"mesh3d\",\"colorbar\":{\"outlinewidth\":0,\"ticks\":\"\"}}],\"scatter\":[{\"fillpattern\":{\"fillmode\":\"overlay\",\"size\":10,\"solidity\":0.2},\"type\":\"scatter\"}],\"parcoords\":[{\"type\":\"parcoords\",\"line\":{\"colorbar\":{\"outlinewidth\":0,\"ticks\":\"\"}}}],\"scatterpolargl\":[{\"type\":\"scatterpolargl\",\"marker\":{\"colorbar\":{\"outlinewidth\":0,\"ticks\":\"\"}}}],\"bar\":[{\"error_x\":{\"color\":\"#2a3f5f\"},\"error_y\":{\"color\":\"#2a3f5f\"},\"marker\":{\"line\":{\"color\":\"#E5ECF6\",\"width\":0.5},\"pattern\":{\"fillmode\":\"overlay\",\"size\":10,\"solidity\":0.2}},\"type\":\"bar\"}],\"scattergeo\":[{\"type\":\"scattergeo\",\"marker\":{\"colorbar\":{\"outlinewidth\":0,\"ticks\":\"\"}}}],\"scatterpolar\":[{\"type\":\"scatterpolar\",\"marker\":{\"colorbar\":{\"outlinewidth\":0,\"ticks\":\"\"}}}],\"histogram\":[{\"marker\":{\"pattern\":{\"fillmode\":\"overlay\",\"size\":10,\"solidity\":0.2}},\"type\":\"histogram\"}],\"scattergl\":[{\"type\":\"scattergl\",\"marker\":{\"colorbar\":{\"outlinewidth\":0,\"ticks\":\"\"}}}],\"scatter3d\":[{\"type\":\"scatter3d\",\"line\":{\"colorbar\":{\"outlinewidth\":0,\"ticks\":\"\"}},\"marker\":{\"colorbar\":{\"outlinewidth\":0,\"ticks\":\"\"}}}],\"scattermapbox\":[{\"type\":\"scattermapbox\",\"marker\":{\"colorbar\":{\"outlinewidth\":0,\"ticks\":\"\"}}}],\"scatterternary\":[{\"type\":\"scatterternary\",\"marker\":{\"colorbar\":{\"outlinewidth\":0,\"ticks\":\"\"}}}],\"scattercarpet\":[{\"type\":\"scattercarpet\",\"marker\":{\"colorbar\":{\"outlinewidth\":0,\"ticks\":\"\"}}}],\"carpet\":[{\"aaxis\":{\"endlinecolor\":\"#2a3f5f\",\"gridcolor\":\"white\",\"linecolor\":\"white\",\"minorgridcolor\":\"white\",\"startlinecolor\":\"#2a3f5f\"},\"baxis\":{\"endlinecolor\":\"#2a3f5f\",\"gridcolor\":\"white\",\"linecolor\":\"white\",\"minorgridcolor\":\"white\",\"startlinecolor\":\"#2a3f5f\"},\"type\":\"carpet\"}],\"table\":[{\"cells\":{\"fill\":{\"color\":\"#EBF0F8\"},\"line\":{\"color\":\"white\"}},\"header\":{\"fill\":{\"color\":\"#C8D4E3\"},\"line\":{\"color\":\"white\"}},\"type\":\"table\"}],\"barpolar\":[{\"marker\":{\"line\":{\"color\":\"#E5ECF6\",\"width\":0.5},\"pattern\":{\"fillmode\":\"overlay\",\"size\":10,\"solidity\":0.2}},\"type\":\"barpolar\"}],\"pie\":[{\"automargin\":true,\"type\":\"pie\"}]},\"layout\":{\"autotypenumbers\":\"strict\",\"colorway\":[\"#636efa\",\"#EF553B\",\"#00cc96\",\"#ab63fa\",\"#FFA15A\",\"#19d3f3\",\"#FF6692\",\"#B6E880\",\"#FF97FF\",\"#FECB52\"],\"font\":{\"color\":\"#2a3f5f\"},\"hovermode\":\"closest\",\"hoverlabel\":{\"align\":\"left\"},\"paper_bgcolor\":\"white\",\"plot_bgcolor\":\"#E5ECF6\",\"polar\":{\"bgcolor\":\"#E5ECF6\",\"angularaxis\":{\"gridcolor\":\"white\",\"linecolor\":\"white\",\"ticks\":\"\"},\"radialaxis\":{\"gridcolor\":\"white\",\"linecolor\":\"white\",\"ticks\":\"\"}},\"ternary\":{\"bgcolor\":\"#E5ECF6\",\"aaxis\":{\"gridcolor\":\"white\",\"linecolor\":\"white\",\"ticks\":\"\"},\"baxis\":{\"gridcolor\":\"white\",\"linecolor\":\"white\",\"ticks\":\"\"},\"caxis\":{\"gridcolor\":\"white\",\"linecolor\":\"white\",\"ticks\":\"\"}},\"coloraxis\":{\"colorbar\":{\"outlinewidth\":0,\"ticks\":\"\"}},\"colorscale\":{\"sequential\":[[0.0,\"#0d0887\"],[0.1111111111111111,\"#46039f\"],[0.2222222222222222,\"#7201a8\"],[0.3333333333333333,\"#9c179e\"],[0.4444444444444444,\"#bd3786\"],[0.5555555555555556,\"#d8576b\"],[0.6666666666666666,\"#ed7953\"],[0.7777777777777778,\"#fb9f3a\"],[0.8888888888888888,\"#fdca26\"],[1.0,\"#f0f921\"]],\"sequentialminus\":[[0.0,\"#0d0887\"],[0.1111111111111111,\"#46039f\"],[0.2222222222222222,\"#7201a8\"],[0.3333333333333333,\"#9c179e\"],[0.4444444444444444,\"#bd3786\"],[0.5555555555555556,\"#d8576b\"],[0.6666666666666666,\"#ed7953\"],[0.7777777777777778,\"#fb9f3a\"],[0.8888888888888888,\"#fdca26\"],[1.0,\"#f0f921\"]],\"diverging\":[[0,\"#8e0152\"],[0.1,\"#c51b7d\"],[0.2,\"#de77ae\"],[0.3,\"#f1b6da\"],[0.4,\"#fde0ef\"],[0.5,\"#f7f7f7\"],[0.6,\"#e6f5d0\"],[0.7,\"#b8e186\"],[0.8,\"#7fbc41\"],[0.9,\"#4d9221\"],[1,\"#276419\"]]},\"xaxis\":{\"gridcolor\":\"white\",\"linecolor\":\"white\",\"ticks\":\"\",\"title\":{\"standoff\":15},\"zerolinecolor\":\"white\",\"automargin\":true,\"zerolinewidth\":2},\"yaxis\":{\"gridcolor\":\"white\",\"linecolor\":\"white\",\"ticks\":\"\",\"title\":{\"standoff\":15},\"zerolinecolor\":\"white\",\"automargin\":true,\"zerolinewidth\":2},\"scene\":{\"xaxis\":{\"backgroundcolor\":\"#E5ECF6\",\"gridcolor\":\"white\",\"linecolor\":\"white\",\"showbackground\":true,\"ticks\":\"\",\"zerolinecolor\":\"white\",\"gridwidth\":2},\"yaxis\":{\"backgroundcolor\":\"#E5ECF6\",\"gridcolor\":\"white\",\"linecolor\":\"white\",\"showbackground\":true,\"ticks\":\"\",\"zerolinecolor\":\"white\",\"gridwidth\":2},\"zaxis\":{\"backgroundcolor\":\"#E5ECF6\",\"gridcolor\":\"white\",\"linecolor\":\"white\",\"showbackground\":true,\"ticks\":\"\",\"zerolinecolor\":\"white\",\"gridwidth\":2}},\"shapedefaults\":{\"line\":{\"color\":\"#2a3f5f\"}},\"annotationdefaults\":{\"arrowcolor\":\"#2a3f5f\",\"arrowhead\":0,\"arrowwidth\":1},\"geo\":{\"bgcolor\":\"white\",\"landcolor\":\"#E5ECF6\",\"subunitcolor\":\"white\",\"showland\":true,\"showlakes\":true,\"lakecolor\":\"white\"},\"title\":{\"x\":0.05},\"mapbox\":{\"style\":\"light\"}}},\"xaxis\":{\"title\":{\"text\":\"X\"}},\"yaxis\":{\"title\":{\"text\":\"Y\"}},\"title\":{\"text\":\"Linear Regression with Gradient Descent\"}},                        {\"responsive\": true}                    ).then(function(){\n",
       "                            \n",
       "var gd = document.getElementById('175fa5ba-0dc5-4ae1-8918-5a207b92b233');\n",
       "var x = new MutationObserver(function (mutations, observer) {{\n",
       "        var display = window.getComputedStyle(gd).display;\n",
       "        if (!display || display === 'none') {{\n",
       "            console.log([gd, 'removed!']);\n",
       "            Plotly.purge(gd);\n",
       "            observer.disconnect();\n",
       "        }}\n",
       "}});\n",
       "\n",
       "// Listen for the removal of the full notebook cells\n",
       "var notebookContainer = gd.closest('#notebook-container');\n",
       "if (notebookContainer) {{\n",
       "    x.observe(notebookContainer, {childList: true});\n",
       "}}\n",
       "\n",
       "// Listen for the clearing of the current output cell\n",
       "var outputEl = gd.closest('.output');\n",
       "if (outputEl) {{\n",
       "    x.observe(outputEl, {childList: true});\n",
       "}}\n",
       "\n",
       "                        })                };                });            </script>        </div>"
      ]
     },
     "metadata": {},
     "output_type": "display_data"
    }
   ],
   "source": [
    "import numpy as np\n",
    "import plotly.graph_objects as go\n",
    "\n",
    "episode = GetEpisode()\n",
    "\n",
    "# 초기 데이터 포인트 생성\n",
    "fig = go.Figure()\n",
    "\n",
    "# 초기 데이터 포인트 추가\n",
    "fig.add_trace(go.Scatter(\n",
    "    x=X,\n",
    "    y=Y,\n",
    "    mode='markers',\n",
    "    marker=dict(color='blue'),\n",
    "    name='Data Points'\n",
    "))\n",
    "\n",
    "# 초기 직선 추가\n",
    "fig.add_trace(go.Scatter(\n",
    "    x=X,\n",
    "    y=W * X + B,\n",
    "    mode='lines',\n",
    "    line=dict(color='red'),\n",
    "    name='Initial Line'\n",
    "))\n",
    "\n",
    "# episode 반복하여 MSE가 최소가 되는 w, b 찾기 및 직선 추가\n",
    "for i in range(5):\n",
    "    for x in episode.index:\n",
    "        w = episode.loc[x, 'w']\n",
    "        b = episode.loc[x, 'b']\n",
    "        episode.loc[x, 'MSE'] = MSE(W + w, B + b, Y)\n",
    "    \n",
    "    # 최소 MSE에 해당하는 w, b 찾기\n",
    "    min_mse_idx = episode['MSE'].idxmin()\n",
    "    min_w = episode.loc[min_mse_idx, 'w']\n",
    "    min_b = episode.loc[min_mse_idx, 'b']\n",
    "    \n",
    "    # MSE가 최소가 되는 직선 추가\n",
    "    fig.add_trace(go.Scatter(\n",
    "        x=X,\n",
    "        y=(W + min_w) * X + (B + min_b),\n",
    "        mode='lines',\n",
    "        line=dict(color='blue', dash='dash'),\n",
    "        name=f'Iteration {i+1}'\n",
    "    ))\n",
    "    \n",
    "    # w, b 갱신\n",
    "    W += min_w\n",
    "    B += min_b\n",
    "\n",
    "# 레이아웃 설정\n",
    "fig.update_layout(\n",
    "    xaxis_title='X',\n",
    "    yaxis_title='Y',\n",
    "    title='Linear Regression with Gradient Descent'\n",
    ")\n",
    "\n",
    "# 그래프 표시\n",
    "fig.show()\n"
   ]
  },
  {
   "cell_type": "code",
   "execution_count": 90,
   "id": "d348388a",
   "metadata": {},
   "outputs": [
    {
     "name": "stdout",
     "output_type": "stream",
     "text": [
      "     w    b        MSE\n",
      "0  0.5  0.5  836.01825\n",
      "1  0.5 -0.5  792.02825\n",
      "2 -0.5  0.5  728.59425\n",
      "3 -0.5 -0.5  689.42425\n"
     ]
    },
    {
     "data": {
      "image/png": "[encoded data removed]",
      "text/plain": [
       "<Figure size 432x288 with 1 Axes>"
      ]
     },
     "metadata": {
      "needs_background": "light"
     },
     "output_type": "display_data"
    }
   ],
   "source": [
    "episode = GetEpisode()\n",
    "\n",
    "# 리스트 초기화\n",
    "w_values = []\n",
    "b_values = []\n",
    "\n",
    "w_values.append(W)\n",
    "b_values.append(B)\n",
    "\n",
    "# 반복문을 통해 w, b 및 MSE 계산\n",
    "for x in episode.index:\n",
    "    w = episode.loc[x, 'w']\n",
    "    b = episode.loc[x, 'b']\n",
    "    w_values.append(W + w)  # W + w 값을 리스트에 추가\n",
    "    b_values.append(B + b)  # B + b 값을 리스트에 추가\n",
    "    episode.loc[x, 'MSE'] = MSE(W + w, B + b, Y)\n",
    "\n",
    "# 데이터프레임 출력\n",
    "print(episode)\n",
    "\n",
    "# w_values와 b_values 시각화 (scatter plot)\n",
    "plt.scatter(w_values, b_values)\n",
    "plt.xlabel('w')\n",
    "plt.ylabel('b')\n",
    "plt.title('Changes in w and b')\n",
    "plt.show()\n"
   ]
  },
  {
   "cell_type": "markdown",
   "id": "9188e434",
   "metadata": {},
   "source": [
    "저는 이러한 완전탐색 알고리즘이 다변수 미적분학의 기호로 쓸 수 있을 것 같습니다  \n",
    "\n",
    "$\\frac{\\partial{MSE}}{\\partial{w}} + \\frac{\\partial{MSE}}{\\partial{b}}$"
   ]
  },
  {
   "cell_type": "code",
   "execution_count": 91,
   "id": "add75e59",
   "metadata": {},
   "outputs": [
    {
     "data": {
      "application/vnd.plotly.v1+json": {
       "config": {
        "plotlyServerURL": "https://plot.ly"
       },
       "data": [
        {
         "marker": {
          "color": "red",
          "opacity": 0.8,
          "size": 5
         },
         "mode": "markers",
         "type": "scatter3d",
         "x": [
          0.5,
          0.5,
          -0.5,
          -0.5
         ],
         "y": [
          0.5,
          -0.5,
          0.5,
          -0.5
         ],
         "z": [
          70154.43825,
          70680.72825,
          71462.95824999998,
          71994.06824999998
         ]
        },
        {
         "line": {
          "color": "blue",
          "width": 2
         },
         "mode": "lines",
         "showlegend": false,
         "type": "scatter3d",
         "x": [
          1.6,
          1.6191919191919193,
          1.6383838383838385,
          1.6575757575757577,
          1.676767676767677,
          1.6959595959595961,
          1.7151515151515153,
          1.7343434343434345,
          1.7535353535353537,
          1.772727272727273,
          1.791919191919192,
          1.8111111111111111,
          1.8303030303030303,
          1.8494949494949495,
          1.8686868686868687,
          1.887878787878788,
          1.9070707070707071,
          1.9262626262626263,
          1.9454545454545455,
          1.9646464646464648,
          1.983838383838384,
          2.003030303030303,
          2.022222222222222,
          2.0414141414141413,
          2.0606060606060606,
          2.0797979797979798,
          2.098989898989899,
          2.118181818181818,
          2.1373737373737374,
          2.1565656565656566,
          2.175757575757576,
          2.194949494949495,
          2.214141414141414,
          2.2333333333333334,
          2.2525252525252526,
          2.271717171717172,
          2.290909090909091,
          2.31010101010101,
          2.3292929292929294,
          2.3484848484848486,
          2.367676767676768,
          2.386868686868687,
          2.4060606060606062,
          2.4252525252525254,
          2.4444444444444446,
          2.463636363636364,
          2.482828282828283,
          2.5020202020202023,
          2.5212121212121215,
          2.5404040404040407,
          2.55959595959596,
          2.578787878787879,
          2.5979797979797983,
          2.6171717171717175,
          2.6363636363636367,
          2.655555555555556,
          2.6747474747474747,
          2.693939393939394,
          2.713131313131313,
          2.7323232323232323,
          2.7515151515151515,
          2.7707070707070707,
          2.78989898989899,
          2.809090909090909,
          2.8282828282828283,
          2.8474747474747475,
          2.8666666666666667,
          2.885858585858586,
          2.905050505050505,
          2.9242424242424243,
          2.9434343434343435,
          2.9626262626262627,
          2.981818181818182,
          3.0010101010101007,
          3.02020202020202,
          3.039393939393939,
          3.0585858585858583,
          3.0777777777777775,
          3.0969696969696967,
          3.116161616161616,
          3.135353535353535,
          3.1545454545454543,
          3.1737373737373735,
          3.1929292929292927,
          3.212121212121212,
          3.231313131313131,
          3.2505050505050503,
          3.2696969696969695,
          3.2888888888888888,
          3.308080808080808,
          3.327272727272727,
          3.3464646464646464,
          3.3656565656565656,
          3.3848484848484848,
          3.404040404040404,
          3.423232323232323,
          3.4424242424242424,
          3.4616161616161616,
          3.480808080808081,
          3.5
         ],
         "y": [
          0.5,
          0.5,
          0.5,
          0.5,
          0.5,
          0.5,
          0.5,
          0.5,
          0.5,
          0.5,
          0.5,
          0.5,
          0.5,
          0.5,
          0.5,
          0.5,
          0.5,
          0.5,
          0.5,
          0.5,
          0.5,
          0.5,
          0.5,
          0.5,
          0.5,
          0.5,
          0.5,
          0.5,
          0.5,
          0.5,
          0.5,
          0.5,
          0.5,
          0.5,
          0.5,
          0.5,
          0.5,
          0.5,
          0.5,
          0.5,
          0.5,
          0.5,
          0.5,
          0.5,
          0.5,
          0.5,
          0.5,
          0.5,
          0.5,
          0.5,
          0.5,
          0.5,
          0.5,
          0.5,
          0.5,
          0.5,
          0.5,
          0.5,
          0.5,
          0.5,
          0.5,
          0.5,
          0.5,
          0.5,
          0.5,
          0.5,
          0.5,
          0.5,
          0.5,
          0.5,
          0.5,
          0.5,
          0.5,
          0.5,
          0.5,
          0.5,
          0.5,
          0.5,
          0.5,
          0.5,
          0.5,
          0.5,
          0.5,
          0.5,
          0.5,
          0.5,
          0.5,
          0.5,
          0.5,
          0.5,
          0.5,
          0.5,
          0.5,
          0.5,
          0.5,
          0.5,
          0.5,
          0.5,
          0.5,
          0.5
         ],
         "z": [
          70154.43825,
          70154.43825,
          70154.43825,
          70154.43825,
          70154.43825,
          70154.43825,
          70154.43825,
          70154.43825,
          70154.43825,
          70154.43825,
          70154.43825,
          70154.43825,
          70154.43825,
          70154.43825,
          70154.43825,
          70154.43825,
          70154.43825,
          70154.43825,
          70154.43825,
          70154.43825,
          70154.43825,
          70154.43825,
          70154.43825,
          70154.43825,
          70154.43825,
          70154.43825,
          70154.43825,
          70154.43825,
          70154.43825,
          70154.43825,
          70154.43825,
          70154.43825,
          70154.43825,
          70154.43825,
          70154.43825,
          70154.43825,
          70154.43825,
          70154.43825,
          70154.43825,
          70154.43825,
          70154.43825,
          70154.43825,
          70154.43825,
          70154.43825,
          70154.43825,
          70154.43825,
          70154.43825,
          70154.43825,
          70154.43825,
          70154.43825,
          70154.43825,
          70154.43825,
          70154.43825,
          70154.43825,
          70154.43825,
          70154.43825,
          70154.43825,
          70154.43825,
          70154.43825,
          70154.43825,
          70154.43825,
          70154.43825,
          70154.43825,
          70154.43825,
          70154.43825,
          70154.43825,
          70154.43825,
          70154.43825,
          70154.43825,
          70154.43825,
          70154.43825,
          70154.43825,
          70154.43825,
          70154.43825,
          70154.43825,
          70154.43825,
          70154.43825,
          70154.43825,
          70154.43825,
          70154.43825,
          70154.43825,
          70154.43825,
          70154.43825,
          70154.43825,
          70154.43825,
          70154.43825,
          70154.43825,
          70154.43825,
          70154.43825,
          70154.43825,
          70154.43825,
          70154.43825,
          70154.43825,
          70154.43825,
          70154.43825,
          70154.43825,
          70154.43825,
          70154.43825,
          70154.43825,
          70154.43825
         ]
        },
        {
         "line": {
          "color": "blue",
          "width": 2
         },
         "mode": "lines",
         "showlegend": false,
         "type": "scatter3d",
         "x": [
          1.6,
          1.6191919191919193,
          1.6383838383838385,
          1.6575757575757577,
          1.676767676767677,
          1.6959595959595961,
          1.7151515151515153,
          1.7343434343434345,
          1.7535353535353537,
          1.772727272727273,
          1.791919191919192,
          1.8111111111111111,
          1.8303030303030303,
          1.8494949494949495,
          1.8686868686868687,
          1.887878787878788,
          1.9070707070707071,
          1.9262626262626263,
          1.9454545454545455,
          1.9646464646464648,
          1.983838383838384,
          2.003030303030303,
          2.022222222222222,
          2.0414141414141413,
          2.0606060606060606,
          2.0797979797979798,
          2.098989898989899,
          2.118181818181818,
          2.1373737373737374,
          2.1565656565656566,
          2.175757575757576,
          2.194949494949495,
          2.214141414141414,
          2.2333333333333334,
          2.2525252525252526,
          2.271717171717172,
          2.290909090909091,
          2.31010101010101,
          2.3292929292929294,
          2.3484848484848486,
          2.367676767676768,
          2.386868686868687,
          2.4060606060606062,
          2.4252525252525254,
          2.4444444444444446,
          2.463636363636364,
          2.482828282828283,
          2.5020202020202023,
          2.5212121212121215,
          2.5404040404040407,
          2.55959595959596,
          2.578787878787879,
          2.5979797979797983,
          2.6171717171717175,
          2.6363636363636367,
          2.655555555555556,
          2.6747474747474747,
          2.693939393939394,
          2.713131313131313,
          2.7323232323232323,
          2.7515151515151515,
          2.7707070707070707,
          2.78989898989899,
          2.809090909090909,
          2.8282828282828283,
          2.8474747474747475,
          2.8666666666666667,
          2.885858585858586,
          2.905050505050505,
          2.9242424242424243,
          2.9434343434343435,
          2.9626262626262627,
          2.981818181818182,
          3.0010101010101007,
          3.02020202020202,
          3.039393939393939,
          3.0585858585858583,
          3.0777777777777775,
          3.0969696969696967,
          3.116161616161616,
          3.135353535353535,
          3.1545454545454543,
          3.1737373737373735,
          3.1929292929292927,
          3.212121212121212,
          3.231313131313131,
          3.2505050505050503,
          3.2696969696969695,
          3.2888888888888888,
          3.308080808080808,
          3.327272727272727,
          3.3464646464646464,
          3.3656565656565656,
          3.3848484848484848,
          3.404040404040404,
          3.423232323232323,
          3.4424242424242424,
          3.4616161616161616,
          3.480808080808081,
          3.5
         ],
         "y": [
          -0.5,
          -0.5,
          -0.5,
          -0.5,
          -0.5,
          -0.5,
          -0.5,
          -0.5,
          -0.5,
          -0.5,
          -0.5,
          -0.5,
          -0.5,
          -0.5,
          -0.5,
          -0.5,
          -0.5,
          -0.5,
          -0.5,
          -0.5,
          -0.5,
          -0.5,
          -0.5,
          -0.5,
          -0.5,
          -0.5,
          -0.5,
          -0.5,
          -0.5,
          -0.5,
          -0.5,
          -0.5,
          -0.5,
          -0.5,
          -0.5,
          -0.5,
          -0.5,
          -0.5,
          -0.5,
          -0.5,
          -0.5,
          -0.5,
          -0.5,
          -0.5,
          -0.5,
          -0.5,
          -0.5,
          -0.5,
          -0.5,
          -0.5,
          -0.5,
          -0.5,
          -0.5,
          -0.5,
          -0.5,
          -0.5,
          -0.5,
          -0.5,
          -0.5,
          -0.5,
          -0.5,
          -0.5,
          -0.5,
          -0.5,
          -0.5,
          -0.5,
          -0.5,
          -0.5,
          -0.5,
          -0.5,
          -0.5,
          -0.5,
          -0.5,
          -0.5,
          -0.5,
          -0.5,
          -0.5,
          -0.5,
          -0.5,
          -0.5,
          -0.5,
          -0.5,
          -0.5,
          -0.5,
          -0.5,
          -0.5,
          -0.5,
          -0.5,
          -0.5,
          -0.5,
          -0.5,
          -0.5,
          -0.5,
          -0.5,
          -0.5,
          -0.5,
          -0.5,
          -0.5,
          -0.5,
          -0.5
         ],
         "z": [
          70680.72825,
          70680.72825,
          70680.72825,
          70680.72825,
          70680.72825,
          70680.72825,
          70680.72825,
          70680.72825,
          70680.72825,
          70680.72825,
          70680.72825,
          70680.72825,
          70680.72825,
          70680.72825,
          70680.72825,
          70680.72825,
          70680.72825,
          70680.72825,
          70680.72825,
          70680.72825,
          70680.72825,
          70680.72825,
          70680.72825,
          70680.72825,
          70680.72825,
          70680.72825,
          70680.72825,
          70680.72825,
          70680.72825,
          70680.72825,
          70680.72825,
          70680.72825,
          70680.72825,
          70680.72825,
          70680.72825,
          70680.72825,
          70680.72825,
          70680.72825,
          70680.72825,
          70680.72825,
          70680.72825,
          70680.72825,
          70680.72825,
          70680.72825,
          70680.72825,
          70680.72825,
          70680.72825,
          70680.72825,
          70680.72825,
          70680.72825,
          70680.72825,
          70680.72825,
          70680.72825,
          70680.72825,
          70680.72825,
          70680.72825,
          70680.72825,
          70680.72825,
          70680.72825,
          70680.72825,
          70680.72825,
          70680.72825,
          70680.72825,
          70680.72825,
          70680.72825,
          70680.72825,
          70680.72825,
          70680.72825,
          70680.72825,
          70680.72825,
          70680.72825,
          70680.72825,
          70680.72825,
          70680.72825,
          70680.72825,
          70680.72825,
          70680.72825,
          70680.72825,
          70680.72825,
          70680.72825,
          70680.72825,
          70680.72825,
          70680.72825,
          70680.72825,
          70680.72825,
          70680.72825,
          70680.72825,
          70680.72825,
          70680.72825,
          70680.72825,
          70680.72825,
          70680.72825,
          70680.72825,
          70680.72825,
          70680.72825,
          70680.72825,
          70680.72825,
          70680.72825,
          70680.72825,
          70680.72825
         ]
        },
        {
         "line": {
          "color": "blue",
          "width": 2
         },
         "mode": "lines",
         "showlegend": false,
         "type": "scatter3d",
         "x": [
          1.6,
          1.6191919191919193,
          1.6383838383838385,
          1.6575757575757577,
          1.676767676767677,
          1.6959595959595961,
          1.7151515151515153,
          1.7343434343434345,
          1.7535353535353537,
          1.772727272727273,
          1.791919191919192,
          1.8111111111111111,
          1.8303030303030303,
          1.8494949494949495,
          1.8686868686868687,
          1.887878787878788,
          1.9070707070707071,
          1.9262626262626263,
          1.9454545454545455,
          1.9646464646464648,
          1.983838383838384,
          2.003030303030303,
          2.022222222222222,
          2.0414141414141413,
          2.0606060606060606,
          2.0797979797979798,
          2.098989898989899,
          2.118181818181818,
          2.1373737373737374,
          2.1565656565656566,
          2.175757575757576,
          2.194949494949495,
          2.214141414141414,
          2.2333333333333334,
          2.2525252525252526,
          2.271717171717172,
          2.290909090909091,
          2.31010101010101,
          2.3292929292929294,
          2.3484848484848486,
          2.367676767676768,
          2.386868686868687,
          2.4060606060606062,
          2.4252525252525254,
          2.4444444444444446,
          2.463636363636364,
          2.482828282828283,
          2.5020202020202023,
          2.5212121212121215,
          2.5404040404040407,
          2.55959595959596,
          2.578787878787879,
          2.5979797979797983,
          2.6171717171717175,
          2.6363636363636367,
          2.655555555555556,
          2.6747474747474747,
          2.693939393939394,
          2.713131313131313,
          2.7323232323232323,
          2.7515151515151515,
          2.7707070707070707,
          2.78989898989899,
          2.809090909090909,
          2.8282828282828283,
          2.8474747474747475,
          2.8666666666666667,
          2.885858585858586,
          2.905050505050505,
          2.9242424242424243,
          2.9434343434343435,
          2.9626262626262627,
          2.981818181818182,
          3.0010101010101007,
          3.02020202020202,
          3.039393939393939,
          3.0585858585858583,
          3.0777777777777775,
          3.0969696969696967,
          3.116161616161616,
          3.135353535353535,
          3.1545454545454543,
          3.1737373737373735,
          3.1929292929292927,
          3.212121212121212,
          3.231313131313131,
          3.2505050505050503,
          3.2696969696969695,
          3.2888888888888888,
          3.308080808080808,
          3.327272727272727,
          3.3464646464646464,
          3.3656565656565656,
          3.3848484848484848,
          3.404040404040404,
          3.423232323232323,
          3.4424242424242424,
          3.4616161616161616,
          3.480808080808081,
          3.5
         ],
         "y": [
          0.5,
          0.5,
          0.5,
          0.5,
          0.5,
          0.5,
          0.5,
          0.5,
          0.5,
          0.5,
          0.5,
          0.5,
          0.5,
          0.5,
          0.5,
          0.5,
          0.5,
          0.5,
          0.5,
          0.5,
          0.5,
          0.5,
          0.5,
          0.5,
          0.5,
          0.5,
          0.5,
          0.5,
          0.5,
          0.5,
          0.5,
          0.5,
          0.5,
          0.5,
          0.5,
          0.5,
          0.5,
          0.5,
          0.5,
          0.5,
          0.5,
          0.5,
          0.5,
          0.5,
          0.5,
          0.5,
          0.5,
          0.5,
          0.5,
          0.5,
          0.5,
          0.5,
          0.5,
          0.5,
          0.5,
          0.5,
          0.5,
          0.5,
          0.5,
          0.5,
          0.5,
          0.5,
          0.5,
          0.5,
          0.5,
          0.5,
          0.5,
          0.5,
          0.5,
          0.5,
          0.5,
          0.5,
          0.5,
          0.5,
          0.5,
          0.5,
          0.5,
          0.5,
          0.5,
          0.5,
          0.5,
          0.5,
          0.5,
          0.5,
          0.5,
          0.5,
          0.5,
          0.5,
          0.5,
          0.5,
          0.5,
          0.5,
          0.5,
          0.5,
          0.5,
          0.5,
          0.5,
          0.5,
          0.5,
          0.5
         ],
         "z": [
          71462.95824999998,
          71462.95824999998,
          71462.95824999998,
          71462.95824999998,
          71462.95824999998,
          71462.95824999998,
          71462.95824999998,
          71462.95824999998,
          71462.95824999998,
          71462.95824999998,
          71462.95824999998,
          71462.95824999998,
          71462.95824999998,
          71462.95824999998,
          71462.95824999998,
          71462.95824999998,
          71462.95824999998,
          71462.95824999998,
          71462.95824999998,
          71462.95824999998,
          71462.95824999998,
          71462.95824999998,
          71462.95824999998,
          71462.95824999998,
          71462.95824999998,
          71462.95824999998,
          71462.95824999998,
          71462.95824999998,
          71462.95824999998,
          71462.95824999998,
          71462.95824999998,
          71462.95824999998,
          71462.95824999998,
          71462.95824999998,
          71462.95824999998,
          71462.95824999998,
          71462.95824999998,
          71462.95824999998,
          71462.95824999998,
          71462.95824999998,
          71462.95824999998,
          71462.95824999998,
          71462.95824999998,
          71462.95824999998,
          71462.95824999998,
          71462.95824999998,
          71462.95824999998,
          71462.95824999998,
          71462.95824999998,
          71462.95824999998,
          71462.95824999998,
          71462.95824999998,
          71462.95824999998,
          71462.95824999998,
          71462.95824999998,
          71462.95824999998,
          71462.95824999998,
          71462.95824999998,
          71462.95824999998,
          71462.95824999998,
          71462.95824999998,
          71462.95824999998,
          71462.95824999998,
          71462.95824999998,
          71462.95824999998,
          71462.95824999998,
          71462.95824999998,
          71462.95824999998,
          71462.95824999998,
          71462.95824999998,
          71462.95824999998,
          71462.95824999998,
          71462.95824999998,
          71462.95824999998,
          71462.95824999998,
          71462.95824999998,
          71462.95824999998,
          71462.95824999998,
          71462.95824999998,
          71462.95824999998,
          71462.95824999998,
          71462.95824999998,
          71462.95824999998,
          71462.95824999998,
          71462.95824999998,
          71462.95824999998,
          71462.95824999998,
          71462.95824999998,
          71462.95824999998,
          71462.95824999998,
          71462.95824999998,
          71462.95824999998,
          71462.95824999998,
          71462.95824999998,
          71462.95824999998,
          71462.95824999998,
          71462.95824999998,
          71462.95824999998,
          71462.95824999998,
          71462.95824999998
         ]
        },
        {
         "line": {
          "color": "blue",
          "width": 2
         },
         "mode": "lines",
         "showlegend": false,
         "type": "scatter3d",
         "x": [
          1.6,
          1.6191919191919193,
          1.6383838383838385,
          1.6575757575757577,
          1.676767676767677,
          1.6959595959595961,
          1.7151515151515153,
          1.7343434343434345,
          1.7535353535353537,
          1.772727272727273,
          1.791919191919192,
          1.8111111111111111,
          1.8303030303030303,
          1.8494949494949495,
          1.8686868686868687,
          1.887878787878788,
          1.9070707070707071,
          1.9262626262626263,
          1.9454545454545455,
          1.9646464646464648,
          1.983838383838384,
          2.003030303030303,
          2.022222222222222,
          2.0414141414141413,
          2.0606060606060606,
          2.0797979797979798,
          2.098989898989899,
          2.118181818181818,
          2.1373737373737374,
          2.1565656565656566,
          2.175757575757576,
          2.194949494949495,
          2.214141414141414,
          2.2333333333333334,
          2.2525252525252526,
          2.271717171717172,
          2.290909090909091,
          2.31010101010101,
          2.3292929292929294,
          2.3484848484848486,
          2.367676767676768,
          2.386868686868687,
          2.4060606060606062,
          2.4252525252525254,
          2.4444444444444446,
          2.463636363636364,
          2.482828282828283,
          2.5020202020202023,
          2.5212121212121215,
          2.5404040404040407,
          2.55959595959596,
          2.578787878787879,
          2.5979797979797983,
          2.6171717171717175,
          2.6363636363636367,
          2.655555555555556,
          2.6747474747474747,
          2.693939393939394,
          2.713131313131313,
          2.7323232323232323,
          2.7515151515151515,
          2.7707070707070707,
          2.78989898989899,
          2.809090909090909,
          2.8282828282828283,
          2.8474747474747475,
          2.8666666666666667,
          2.885858585858586,
          2.905050505050505,
          2.9242424242424243,
          2.9434343434343435,
          2.9626262626262627,
          2.981818181818182,
          3.0010101010101007,
          3.02020202020202,
          3.039393939393939,
          3.0585858585858583,
          3.0777777777777775,
          3.0969696969696967,
          3.116161616161616,
          3.135353535353535,
          3.1545454545454543,
          3.1737373737373735,
          3.1929292929292927,
          3.212121212121212,
          3.231313131313131,
          3.2505050505050503,
          3.2696969696969695,
          3.2888888888888888,
          3.308080808080808,
          3.327272727272727,
          3.3464646464646464,
          3.3656565656565656,
          3.3848484848484848,
          3.404040404040404,
          3.423232323232323,
          3.4424242424242424,
          3.4616161616161616,
          3.480808080808081,
          3.5
         ],
         "y": [
          -0.5,
          -0.5,
          -0.5,
          -0.5,
          -0.5,
          -0.5,
          -0.5,
          -0.5,
          -0.5,
          -0.5,
          -0.5,
          -0.5,
          -0.5,
          -0.5,
          -0.5,
          -0.5,
          -0.5,
          -0.5,
          -0.5,
          -0.5,
          -0.5,
          -0.5,
          -0.5,
          -0.5,
          -0.5,
          -0.5,
          -0.5,
          -0.5,
          -0.5,
          -0.5,
          -0.5,
          -0.5,
          -0.5,
          -0.5,
          -0.5,
          -0.5,
          -0.5,
          -0.5,
          -0.5,
          -0.5,
          -0.5,
          -0.5,
          -0.5,
          -0.5,
          -0.5,
          -0.5,
          -0.5,
          -0.5,
          -0.5,
          -0.5,
          -0.5,
          -0.5,
          -0.5,
          -0.5,
          -0.5,
          -0.5,
          -0.5,
          -0.5,
          -0.5,
          -0.5,
          -0.5,
          -0.5,
          -0.5,
          -0.5,
          -0.5,
          -0.5,
          -0.5,
          -0.5,
          -0.5,
          -0.5,
          -0.5,
          -0.5,
          -0.5,
          -0.5,
          -0.5,
          -0.5,
          -0.5,
          -0.5,
          -0.5,
          -0.5,
          -0.5,
          -0.5,
          -0.5,
          -0.5,
          -0.5,
          -0.5,
          -0.5,
          -0.5,
          -0.5,
          -0.5,
          -0.5,
          -0.5,
          -0.5,
          -0.5,
          -0.5,
          -0.5,
          -0.5,
          -0.5,
          -0.5,
          -0.5
         ],
         "z": [
          71994.06824999998,
          71994.06824999998,
          71994.06824999998,
          71994.06824999998,
          71994.06824999998,
          71994.06824999998,
          71994.06824999998,
          71994.06824999998,
          71994.06824999998,
          71994.06824999998,
          71994.06824999998,
          71994.06824999998,
          71994.06824999998,
          71994.06824999998,
          71994.06824999998,
          71994.06824999998,
          71994.06824999998,
          71994.06824999998,
          71994.06824999998,
          71994.06824999998,
          71994.06824999998,
          71994.06824999998,
          71994.06824999998,
          71994.06824999998,
          71994.06824999998,
          71994.06824999998,
          71994.06824999998,
          71994.06824999998,
          71994.06824999998,
          71994.06824999998,
          71994.06824999998,
          71994.06824999998,
          71994.06824999998,
          71994.06824999998,
          71994.06824999998,
          71994.06824999998,
          71994.06824999998,
          71994.06824999998,
          71994.06824999998,
          71994.06824999998,
          71994.06824999998,
          71994.06824999998,
          71994.06824999998,
          71994.06824999998,
          71994.06824999998,
          71994.06824999998,
          71994.06824999998,
          71994.06824999998,
          71994.06824999998,
          71994.06824999998,
          71994.06824999998,
          71994.06824999998,
          71994.06824999998,
          71994.06824999998,
          71994.06824999998,
          71994.06824999998,
          71994.06824999998,
          71994.06824999998,
          71994.06824999998,
          71994.06824999998,
          71994.06824999998,
          71994.06824999998,
          71994.06824999998,
          71994.06824999998,
          71994.06824999998,
          71994.06824999998,
          71994.06824999998,
          71994.06824999998,
          71994.06824999998,
          71994.06824999998,
          71994.06824999998,
          71994.06824999998,
          71994.06824999998,
          71994.06824999998,
          71994.06824999998,
          71994.06824999998,
          71994.06824999998,
          71994.06824999998,
          71994.06824999998,
          71994.06824999998,
          71994.06824999998,
          71994.06824999998,
          71994.06824999998,
          71994.06824999998,
          71994.06824999998,
          71994.06824999998,
          71994.06824999998,
          71994.06824999998,
          71994.06824999998,
          71994.06824999998,
          71994.06824999998,
          71994.06824999998,
          71994.06824999998,
          71994.06824999998,
          71994.06824999998,
          71994.06824999998,
          71994.06824999998,
          71994.06824999998,
          71994.06824999998,
          71994.06824999998
         ]
        },
        {
         "marker": {
          "color": "green",
          "opacity": 1,
          "size": 10,
          "symbol": "x"
         },
         "mode": "markers",
         "name": "Center Point",
         "type": "scatter3d",
         "x": [
          0
         ],
         "y": [
          0
         ],
         "z": [
          71073.04824999999
         ]
        },
        {
         "line": {
          "color": "black",
          "width": 1
         },
         "mode": "lines",
         "showlegend": false,
         "type": "scatter3d",
         "x": [
          0.5,
          0
         ],
         "y": [
          0.5,
          0
         ],
         "z": [
          70154.43825,
          71073.04824999999
         ]
        },
        {
         "line": {
          "color": "black",
          "width": 1
         },
         "mode": "lines",
         "showlegend": false,
         "type": "scatter3d",
         "x": [
          0.5,
          0
         ],
         "y": [
          -0.5,
          0
         ],
         "z": [
          70680.72825,
          71073.04824999999
         ]
        },
        {
         "line": {
          "color": "black",
          "width": 1
         },
         "mode": "lines",
         "showlegend": false,
         "type": "scatter3d",
         "x": [
          -0.5,
          0
         ],
         "y": [
          0.5,
          0
         ],
         "z": [
          71462.95824999998,
          71073.04824999999
         ]
        },
        {
         "line": {
          "color": "black",
          "width": 1
         },
         "mode": "lines",
         "showlegend": false,
         "type": "scatter3d",
         "x": [
          -0.5,
          0
         ],
         "y": [
          -0.5,
          0
         ],
         "z": [
          71994.06824999998,
          71073.04824999999
         ]
        }
       ],
       "layout": {
        "scene": {
         "xaxis": {
          "title": {
           "text": "w"
          }
         },
         "yaxis": {
          "title": {
           "text": "b"
          }
         },
         "zaxis": {
          "title": {
           "text": "MSE"
          }
         }
        },
        "template": {
         "data": {
          "bar": [
           {
            "error_x": {
             "color": "#2a3f5f"
            },
            "error_y": {
             "color": "#2a3f5f"
            },
            "marker": {
             "line": {
              "color": "#E5ECF6",
              "width": 0.5
             },
             "pattern": {
              "fillmode": "overlay",
              "size": 10,
              "solidity": 0.2
             }
            },
            "type": "bar"
           }
          ],
          "barpolar": [
           {
            "marker": {
             "line": {
              "color": "#E5ECF6",
              "width": 0.5
             },
             "pattern": {
              "fillmode": "overlay",
              "size": 10,
              "solidity": 0.2
             }
            },
            "type": "barpolar"
           }
          ],
          "carpet": [
           {
            "aaxis": {
             "endlinecolor": "#2a3f5f",
             "gridcolor": "white",
             "linecolor": "white",
             "minorgridcolor": "white",
             "startlinecolor": "#2a3f5f"
            },
            "baxis": {
             "endlinecolor": "#2a3f5f",
             "gridcolor": "white",
             "linecolor": "white",
             "minorgridcolor": "white",
             "startlinecolor": "#2a3f5f"
            },
            "type": "carpet"
           }
          ],
          "choropleth": [
           {
            "colorbar": {
             "outlinewidth": 0,
             "ticks": ""
            },
            "type": "choropleth"
           }
          ],
          "contour": [
           {
            "colorbar": {
             "outlinewidth": 0,
             "ticks": ""
            },
            "colorscale": [
             [
              0,
              "#0d0887"
             ],
             [
              0.1111111111111111,
              "#46039f"
             ],
             [
              0.2222222222222222,
              "#7201a8"
             ],
             [
              0.3333333333333333,
              "#9c179e"
             ],
             [
              0.4444444444444444,
              "#bd3786"
             ],
             [
              0.5555555555555556,
              "#d8576b"
             ],
             [
              0.6666666666666666,
              "#ed7953"
             ],
             [
              0.7777777777777778,
              "#fb9f3a"
             ],
             [
              0.8888888888888888,
              "#fdca26"
             ],
             [
              1,
              "#f0f921"
             ]
            ],
            "type": "contour"
           }
          ],
          "contourcarpet": [
           {
            "colorbar": {
             "outlinewidth": 0,
             "ticks": ""
            },
            "type": "contourcarpet"
           }
          ],
          "heatmap": [
           {
            "colorbar": {
             "outlinewidth": 0,
             "ticks": ""
            },
            "colorscale": [
             [
              0,
              "#0d0887"
             ],
             [
              0.1111111111111111,
              "#46039f"
             ],
             [
              0.2222222222222222,
              "#7201a8"
             ],
             [
              0.3333333333333333,
              "#9c179e"
             ],
             [
              0.4444444444444444,
              "#bd3786"
             ],
             [
              0.5555555555555556,
              "#d8576b"
             ],
             [
              0.6666666666666666,
              "#ed7953"
             ],
             [
              0.7777777777777778,
              "#fb9f3a"
             ],
             [
              0.8888888888888888,
              "#fdca26"
             ],
             [
              1,
              "#f0f921"
             ]
            ],
            "type": "heatmap"
           }
          ],
          "heatmapgl": [
           {
            "colorbar": {
             "outlinewidth": 0,
             "ticks": ""
            },
            "colorscale": [
             [
              0,
              "#0d0887"
             ],
             [
              0.1111111111111111,
              "#46039f"
             ],
             [
              0.2222222222222222,
              "#7201a8"
             ],
             [
              0.3333333333333333,
              "#9c179e"
             ],
             [
              0.4444444444444444,
              "#bd3786"
             ],
             [
              0.5555555555555556,
              "#d8576b"
             ],
             [
              0.6666666666666666,
              "#ed7953"
             ],
             [
              0.7777777777777778,
              "#fb9f3a"
             ],
             [
              0.8888888888888888,
              "#fdca26"
             ],
             [
              1,
              "#f0f921"
             ]
            ],
            "type": "heatmapgl"
           }
          ],
          "histogram": [
           {
            "marker": {
             "pattern": {
              "fillmode": "overlay",
              "size": 10,
              "solidity": 0.2
             }
            },
            "type": "histogram"
           }
          ],
          "histogram2d": [
           {
            "colorbar": {
             "outlinewidth": 0,
             "ticks": ""
            },
            "colorscale": [
             [
              0,
              "#0d0887"
             ],
             [
              0.1111111111111111,
              "#46039f"
             ],
             [
              0.2222222222222222,
              "#7201a8"
             ],
             [
              0.3333333333333333,
              "#9c179e"
             ],
             [
              0.4444444444444444,
              "#bd3786"
             ],
             [
              0.5555555555555556,
              "#d8576b"
             ],
             [
              0.6666666666666666,
              "#ed7953"
             ],
             [
              0.7777777777777778,
              "#fb9f3a"
             ],
             [
              0.8888888888888888,
              "#fdca26"
             ],
             [
              1,
              "#f0f921"
             ]
            ],
            "type": "histogram2d"
           }
          ],
          "histogram2dcontour": [
           {
            "colorbar": {
             "outlinewidth": 0,
             "ticks": ""
            },
            "colorscale": [
             [
              0,
              "#0d0887"
             ],
             [
              0.1111111111111111,
              "#46039f"
             ],
             [
              0.2222222222222222,
              "#7201a8"
             ],
             [
              0.3333333333333333,
              "#9c179e"
             ],
             [
              0.4444444444444444,
              "#bd3786"
             ],
             [
              0.5555555555555556,
              "#d8576b"
             ],
             [
              0.6666666666666666,
              "#ed7953"
             ],
             [
              0.7777777777777778,
              "#fb9f3a"
             ],
             [
              0.8888888888888888,
              "#fdca26"
             ],
             [
              1,
              "#f0f921"
             ]
            ],
            "type": "histogram2dcontour"
           }
          ],
          "mesh3d": [
           {
            "colorbar": {
             "outlinewidth": 0,
             "ticks": ""
            },
            "type": "mesh3d"
           }
          ],
          "parcoords": [
           {
            "line": {
             "colorbar": {
              "outlinewidth": 0,
              "ticks": ""
             }
            },
            "type": "parcoords"
           }
          ],
          "pie": [
           {
            "automargin": true,
            "type": "pie"
           }
          ],
          "scatter": [
           {
            "fillpattern": {
             "fillmode": "overlay",
             "size": 10,
             "solidity": 0.2
            },
            "type": "scatter"
           }
          ],
          "scatter3d": [
           {
            "line": {
             "colorbar": {
              "outlinewidth": 0,
              "ticks": ""
             }
            },
            "marker": {
             "colorbar": {
              "outlinewidth": 0,
              "ticks": ""
             }
            },
            "type": "scatter3d"
           }
          ],
          "scattercarpet": [
           {
            "marker": {
             "colorbar": {
              "outlinewidth": 0,
              "ticks": ""
             }
            },
            "type": "scattercarpet"
           }
          ],
          "scattergeo": [
           {
            "marker": {
             "colorbar": {
              "outlinewidth": 0,
              "ticks": ""
             }
            },
            "type": "scattergeo"
           }
          ],
          "scattergl": [
           {
            "marker": {
             "colorbar": {
              "outlinewidth": 0,
              "ticks": ""
             }
            },
            "type": "scattergl"
           }
          ],
          "scattermapbox": [
           {
            "marker": {
             "colorbar": {
              "outlinewidth": 0,
              "ticks": ""
             }
            },
            "type": "scattermapbox"
           }
          ],
          "scatterpolar": [
           {
            "marker": {
             "colorbar": {
              "outlinewidth": 0,
              "ticks": ""
             }
            },
            "type": "scatterpolar"
           }
          ],
          "scatterpolargl": [
           {
            "marker": {
             "colorbar": {
              "outlinewidth": 0,
              "ticks": ""
             }
            },
            "type": "scatterpolargl"
           }
          ],
          "scatterternary": [
           {
            "marker": {
             "colorbar": {
              "outlinewidth": 0,
              "ticks": ""
             }
            },
            "type": "scatterternary"
           }
          ],
          "surface": [
           {
            "colorbar": {
             "outlinewidth": 0,
             "ticks": ""
            },
            "colorscale": [
             [
              0,
              "#0d0887"
             ],
             [
              0.1111111111111111,
              "#46039f"
             ],
             [
              0.2222222222222222,
              "#7201a8"
             ],
             [
              0.3333333333333333,
              "#9c179e"
             ],
             [
              0.4444444444444444,
              "#bd3786"
             ],
             [
              0.5555555555555556,
              "#d8576b"
             ],
             [
              0.6666666666666666,
              "#ed7953"
             ],
             [
              0.7777777777777778,
              "#fb9f3a"
             ],
             [
              0.8888888888888888,
              "#fdca26"
             ],
             [
              1,
              "#f0f921"
             ]
            ],
            "type": "surface"
           }
          ],
          "table": [
           {
            "cells": {
             "fill": {
              "color": "#EBF0F8"
             },
             "line": {
              "color": "white"
             }
            },
            "header": {
             "fill": {
              "color": "#C8D4E3"
             },
             "line": {
              "color": "white"
             }
            },
            "type": "table"
           }
          ]
         },
         "layout": {
          "annotationdefaults": {
           "arrowcolor": "#2a3f5f",
           "arrowhead": 0,
           "arrowwidth": 1
          },
          "autotypenumbers": "strict",
          "coloraxis": {
           "colorbar": {
            "outlinewidth": 0,
            "ticks": ""
           }
          },
          "colorscale": {
           "diverging": [
            [
             0,
             "#8e0152"
            ],
            [
             0.1,
             "#c51b7d"
            ],
            [
             0.2,
             "#de77ae"
            ],
            [
             0.3,
             "#f1b6da"
            ],
            [
             0.4,
             "#fde0ef"
            ],
            [
             0.5,
             "#f7f7f7"
            ],
            [
             0.6,
             "#e6f5d0"
            ],
            [
             0.7,
             "#b8e186"
            ],
            [
             0.8,
             "#7fbc41"
            ],
            [
             0.9,
             "#4d9221"
            ],
            [
             1,
             "#276419"
            ]
           ],
           "sequential": [
            [
             0,
             "#0d0887"
            ],
            [
             0.1111111111111111,
             "#46039f"
            ],
            [
             0.2222222222222222,
             "#7201a8"
            ],
            [
             0.3333333333333333,
             "#9c179e"
            ],
            [
             0.4444444444444444,
             "#bd3786"
            ],
            [
             0.5555555555555556,
             "#d8576b"
            ],
            [
             0.6666666666666666,
             "#ed7953"
            ],
            [
             0.7777777777777778,
             "#fb9f3a"
            ],
            [
             0.8888888888888888,
             "#fdca26"
            ],
            [
             1,
             "#f0f921"
            ]
           ],
           "sequentialminus": [
            [
             0,
             "#0d0887"
            ],
            [
             0.1111111111111111,
             "#46039f"
            ],
            [
             0.2222222222222222,
             "#7201a8"
            ],
            [
             0.3333333333333333,
             "#9c179e"
            ],
            [
             0.4444444444444444,
             "#bd3786"
            ],
            [
             0.5555555555555556,
             "#d8576b"
            ],
            [
             0.6666666666666666,
             "#ed7953"
            ],
            [
             0.7777777777777778,
             "#fb9f3a"
            ],
            [
             0.8888888888888888,
             "#fdca26"
            ],
            [
             1,
             "#f0f921"
            ]
           ]
          },
          "colorway": [
           "#636efa",
           "#EF553B",
           "#00cc96",
           "#ab63fa",
           "#FFA15A",
           "#19d3f3",
           "#FF6692",
           "#B6E880",
           "#FF97FF",
           "#FECB52"
          ],
          "font": {
           "color": "#2a3f5f"
          },
          "geo": {
           "bgcolor": "white",
           "lakecolor": "white",
           "landcolor": "#E5ECF6",
           "showlakes": true,
           "showland": true,
           "subunitcolor": "white"
          },
          "hoverlabel": {
           "align": "left"
          },
          "hovermode": "closest",
          "mapbox": {
           "style": "light"
          },
          "paper_bgcolor": "white",
          "plot_bgcolor": "#E5ECF6",
          "polar": {
           "angularaxis": {
            "gridcolor": "white",
            "linecolor": "white",
            "ticks": ""
           },
           "bgcolor": "#E5ECF6",
           "radialaxis": {
            "gridcolor": "white",
            "linecolor": "white",
            "ticks": ""
           }
          },
          "scene": {
           "xaxis": {
            "backgroundcolor": "#E5ECF6",
            "gridcolor": "white",
            "gridwidth": 2,
            "linecolor": "white",
            "showbackground": true,
            "ticks": "",
            "zerolinecolor": "white"
           },
           "yaxis": {
            "backgroundcolor": "#E5ECF6",
            "gridcolor": "white",
            "gridwidth": 2,
            "linecolor": "white",
            "showbackground": true,
            "ticks": "",
            "zerolinecolor": "white"
           },
           "zaxis": {
            "backgroundcolor": "#E5ECF6",
            "gridcolor": "white",
            "gridwidth": 2,
            "linecolor": "white",
            "showbackground": true,
            "ticks": "",
            "zerolinecolor": "white"
           }
          },
          "shapedefaults": {
           "line": {
            "color": "#2a3f5f"
           }
          },
          "ternary": {
           "aaxis": {
            "gridcolor": "white",
            "linecolor": "white",
            "ticks": ""
           },
           "baxis": {
            "gridcolor": "white",
            "linecolor": "white",
            "ticks": ""
           },
           "bgcolor": "#E5ECF6",
           "caxis": {
            "gridcolor": "white",
            "linecolor": "white",
            "ticks": ""
           }
          },
          "title": {
           "x": 0.05
          },
          "xaxis": {
           "automargin": true,
           "gridcolor": "white",
           "linecolor": "white",
           "ticks": "",
           "title": {
            "standoff": 15
           },
           "zerolinecolor": "white",
           "zerolinewidth": 2
          },
          "yaxis": {
           "automargin": true,
           "gridcolor": "white",
           "linecolor": "white",
           "ticks": "",
           "title": {
            "standoff": 15
           },
           "zerolinecolor": "white",
           "zerolinewidth": 2
          }
         }
        },
        "title": {
         "text": "MSE as a function of w and b with fitted lines"
        }
       }
      },
      "text/html": [
       "<div>                            <div id=\"55950cf0-31e4-4c25-bd47-e89c5a08eb05\" class=\"plotly-graph-div\" style=\"height:525px; width:100%;\"></div>            <script type=\"text/javascript\">                require([\"plotly\"], function(Plotly) {                    window.PLOTLYENV=window.PLOTLYENV || {};                                    if (document.getElementById(\"55950cf0-31e4-4c25-bd47-e89c5a08eb05\")) {                    Plotly.newPlot(                        \"55950cf0-31e4-4c25-bd47-e89c5a08eb05\",                        [{\"marker\":{\"color\":\"red\",\"opacity\":0.8,\"size\":5},\"mode\":\"markers\",\"x\":[0.5,0.5,-0.5,-0.5],\"y\":[0.5,-0.5,0.5,-0.5],\"z\":[70154.43825,70680.72825,71462.95824999998,71994.06824999998],\"type\":\"scatter3d\"},{\"line\":{\"color\":\"blue\",\"width\":2},\"mode\":\"lines\",\"showlegend\":false,\"x\":[1.6,1.6191919191919193,1.6383838383838385,1.6575757575757577,1.676767676767677,1.6959595959595961,1.7151515151515153,1.7343434343434345,1.7535353535353537,1.772727272727273,1.791919191919192,1.8111111111111111,1.8303030303030303,1.8494949494949495,1.8686868686868687,1.887878787878788,1.9070707070707071,1.9262626262626263,1.9454545454545455,1.9646464646464648,1.983838383838384,2.003030303030303,2.022222222222222,2.0414141414141413,2.0606060606060606,2.0797979797979798,2.098989898989899,2.118181818181818,2.1373737373737374,2.1565656565656566,2.175757575757576,2.194949494949495,2.214141414141414,2.2333333333333334,2.2525252525252526,2.271717171717172,2.290909090909091,2.31010101010101,2.3292929292929294,2.3484848484848486,2.367676767676768,2.386868686868687,2.4060606060606062,2.4252525252525254,2.4444444444444446,2.463636363636364,2.482828282828283,2.5020202020202023,2.5212121212121215,2.5404040404040407,2.55959595959596,2.578787878787879,2.5979797979797983,2.6171717171717175,2.6363636363636367,2.655555555555556,2.6747474747474747,2.693939393939394,2.713131313131313,2.7323232323232323,2.7515151515151515,2.7707070707070707,2.78989898989899,2.809090909090909,2.8282828282828283,2.8474747474747475,2.8666666666666667,2.885858585858586,2.905050505050505,2.9242424242424243,2.9434343434343435,2.9626262626262627,2.981818181818182,3.0010101010101007,3.02020202020202,3.039393939393939,3.0585858585858583,3.0777777777777775,3.0969696969696967,3.116161616161616,3.135353535353535,3.1545454545454543,3.1737373737373735,3.1929292929292927,3.212121212121212,3.231313131313131,3.2505050505050503,3.2696969696969695,3.2888888888888888,3.308080808080808,3.327272727272727,3.3464646464646464,3.3656565656565656,3.3848484848484848,3.404040404040404,3.423232323232323,3.4424242424242424,3.4616161616161616,3.480808080808081,3.5],\"y\":[0.5,0.5,0.5,0.5,0.5,0.5,0.5,0.5,0.5,0.5,0.5,0.5,0.5,0.5,0.5,0.5,0.5,0.5,0.5,0.5,0.5,0.5,0.5,0.5,0.5,0.5,0.5,0.5,0.5,0.5,0.5,0.5,0.5,0.5,0.5,0.5,0.5,0.5,0.5,0.5,0.5,0.5,0.5,0.5,0.5,0.5,0.5,0.5,0.5,0.5,0.5,0.5,0.5,0.5,0.5,0.5,0.5,0.5,0.5,0.5,0.5,0.5,0.5,0.5,0.5,0.5,0.5,0.5,0.5,0.5,0.5,0.5,0.5,0.5,0.5,0.5,0.5,0.5,0.5,0.5,0.5,0.5,0.5,0.5,0.5,0.5,0.5,0.5,0.5,0.5,0.5,0.5,0.5,0.5,0.5,0.5,0.5,0.5,0.5,0.5],\"z\":[70154.43825,70154.43825,70154.43825,70154.43825,70154.43825,70154.43825,70154.43825,70154.43825,70154.43825,70154.43825,70154.43825,70154.43825,70154.43825,70154.43825,70154.43825,70154.43825,70154.43825,70154.43825,70154.43825,70154.43825,70154.43825,70154.43825,70154.43825,70154.43825,70154.43825,70154.43825,70154.43825,70154.43825,70154.43825,70154.43825,70154.43825,70154.43825,70154.43825,70154.43825,70154.43825,70154.43825,70154.43825,70154.43825,70154.43825,70154.43825,70154.43825,70154.43825,70154.43825,70154.43825,70154.43825,70154.43825,70154.43825,70154.43825,70154.43825,70154.43825,70154.43825,70154.43825,70154.43825,70154.43825,70154.43825,70154.43825,70154.43825,70154.43825,70154.43825,70154.43825,70154.43825,70154.43825,70154.43825,70154.43825,70154.43825,70154.43825,70154.43825,70154.43825,70154.43825,70154.43825,70154.43825,70154.43825,70154.43825,70154.43825,70154.43825,70154.43825,70154.43825,70154.43825,70154.43825,70154.43825,70154.43825,70154.43825,70154.43825,70154.43825,70154.43825,70154.43825,70154.43825,70154.43825,70154.43825,70154.43825,70154.43825,70154.43825,70154.43825,70154.43825,70154.43825,70154.43825,70154.43825,70154.43825,70154.43825,70154.43825],\"type\":\"scatter3d\"},{\"line\":{\"color\":\"blue\",\"width\":2},\"mode\":\"lines\",\"showlegend\":false,\"x\":[1.6,1.6191919191919193,1.6383838383838385,1.6575757575757577,1.676767676767677,1.6959595959595961,1.7151515151515153,1.7343434343434345,1.7535353535353537,1.772727272727273,1.791919191919192,1.8111111111111111,1.8303030303030303,1.8494949494949495,1.8686868686868687,1.887878787878788,1.9070707070707071,1.9262626262626263,1.9454545454545455,1.9646464646464648,1.983838383838384,2.003030303030303,2.022222222222222,2.0414141414141413,2.0606060606060606,2.0797979797979798,2.098989898989899,2.118181818181818,2.1373737373737374,2.1565656565656566,2.175757575757576,2.194949494949495,2.214141414141414,2.2333333333333334,2.2525252525252526,2.271717171717172,2.290909090909091,2.31010101010101,2.3292929292929294,2.3484848484848486,2.367676767676768,2.386868686868687,2.4060606060606062,2.4252525252525254,2.4444444444444446,2.463636363636364,2.482828282828283,2.5020202020202023,2.5212121212121215,2.5404040404040407,2.55959595959596,2.578787878787879,2.5979797979797983,2.6171717171717175,2.6363636363636367,2.655555555555556,2.6747474747474747,2.693939393939394,2.713131313131313,2.7323232323232323,2.7515151515151515,2.7707070707070707,2.78989898989899,2.809090909090909,2.8282828282828283,2.8474747474747475,2.8666666666666667,2.885858585858586,2.905050505050505,2.9242424242424243,2.9434343434343435,2.9626262626262627,2.981818181818182,3.0010101010101007,3.02020202020202,3.039393939393939,3.0585858585858583,3.0777777777777775,3.0969696969696967,3.116161616161616,3.135353535353535,3.1545454545454543,3.1737373737373735,3.1929292929292927,3.212121212121212,3.231313131313131,3.2505050505050503,3.2696969696969695,3.2888888888888888,3.308080808080808,3.327272727272727,3.3464646464646464,3.3656565656565656,3.3848484848484848,3.404040404040404,3.423232323232323,3.4424242424242424,3.4616161616161616,3.480808080808081,3.5],\"y\":[-0.5,-0.5,-0.5,-0.5,-0.5,-0.5,-0.5,-0.5,-0.5,-0.5,-0.5,-0.5,-0.5,-0.5,-0.5,-0.5,-0.5,-0.5,-0.5,-0.5,-0.5,-0.5,-0.5,-0.5,-0.5,-0.5,-0.5,-0.5,-0.5,-0.5,-0.5,-0.5,-0.5,-0.5,-0.5,-0.5,-0.5,-0.5,-0.5,-0.5,-0.5,-0.5,-0.5,-0.5,-0.5,-0.5,-0.5,-0.5,-0.5,-0.5,-0.5,-0.5,-0.5,-0.5,-0.5,-0.5,-0.5,-0.5,-0.5,-0.5,-0.5,-0.5,-0.5,-0.5,-0.5,-0.5,-0.5,-0.5,-0.5,-0.5,-0.5,-0.5,-0.5,-0.5,-0.5,-0.5,-0.5,-0.5,-0.5,-0.5,-0.5,-0.5,-0.5,-0.5,-0.5,-0.5,-0.5,-0.5,-0.5,-0.5,-0.5,-0.5,-0.5,-0.5,-0.5,-0.5,-0.5,-0.5,-0.5,-0.5],\"z\":[70680.72825,70680.72825,70680.72825,70680.72825,70680.72825,70680.72825,70680.72825,70680.72825,70680.72825,70680.72825,70680.72825,70680.72825,70680.72825,70680.72825,70680.72825,70680.72825,70680.72825,70680.72825,70680.72825,70680.72825,70680.72825,70680.72825,70680.72825,70680.72825,70680.72825,70680.72825,70680.72825,70680.72825,70680.72825,70680.72825,70680.72825,70680.72825,70680.72825,70680.72825,70680.72825,70680.72825,70680.72825,70680.72825,70680.72825,70680.72825,70680.72825,70680.72825,70680.72825,70680.72825,70680.72825,70680.72825,70680.72825,70680.72825,70680.72825,70680.72825,70680.72825,70680.72825,70680.72825,70680.72825,70680.72825,70680.72825,70680.72825,70680.72825,70680.72825,70680.72825,70680.72825,70680.72825,70680.72825,70680.72825,70680.72825,70680.72825,70680.72825,70680.72825,70680.72825,70680.72825,70680.72825,70680.72825,70680.72825,70680.72825,70680.72825,70680.72825,70680.72825,70680.72825,70680.72825,70680.72825,70680.72825,70680.72825,70680.72825,70680.72825,70680.72825,70680.72825,70680.72825,70680.72825,70680.72825,70680.72825,70680.72825,70680.72825,70680.72825,70680.72825,70680.72825,70680.72825,70680.72825,70680.72825,70680.72825,70680.72825],\"type\":\"scatter3d\"},{\"line\":{\"color\":\"blue\",\"width\":2},\"mode\":\"lines\",\"showlegend\":false,\"x\":[1.6,1.6191919191919193,1.6383838383838385,1.6575757575757577,1.676767676767677,1.6959595959595961,1.7151515151515153,1.7343434343434345,1.7535353535353537,1.772727272727273,1.791919191919192,1.8111111111111111,1.8303030303030303,1.8494949494949495,1.8686868686868687,1.887878787878788,1.9070707070707071,1.9262626262626263,1.9454545454545455,1.9646464646464648,1.983838383838384,2.003030303030303,2.022222222222222,2.0414141414141413,2.0606060606060606,2.0797979797979798,2.098989898989899,2.118181818181818,2.1373737373737374,2.1565656565656566,2.175757575757576,2.194949494949495,2.214141414141414,2.2333333333333334,2.2525252525252526,2.271717171717172,2.290909090909091,2.31010101010101,2.3292929292929294,2.3484848484848486,2.367676767676768,2.386868686868687,2.4060606060606062,2.4252525252525254,2.4444444444444446,2.463636363636364,2.482828282828283,2.5020202020202023,2.5212121212121215,2.5404040404040407,2.55959595959596,2.578787878787879,2.5979797979797983,2.6171717171717175,2.6363636363636367,2.655555555555556,2.6747474747474747,2.693939393939394,2.713131313131313,2.7323232323232323,2.7515151515151515,2.7707070707070707,2.78989898989899,2.809090909090909,2.8282828282828283,2.8474747474747475,2.8666666666666667,2.885858585858586,2.905050505050505,2.9242424242424243,2.9434343434343435,2.9626262626262627,2.981818181818182,3.0010101010101007,3.02020202020202,3.039393939393939,3.0585858585858583,3.0777777777777775,3.0969696969696967,3.116161616161616,3.135353535353535,3.1545454545454543,3.1737373737373735,3.1929292929292927,3.212121212121212,3.231313131313131,3.2505050505050503,3.2696969696969695,3.2888888888888888,3.308080808080808,3.327272727272727,3.3464646464646464,3.3656565656565656,3.3848484848484848,3.404040404040404,3.423232323232323,3.4424242424242424,3.4616161616161616,3.480808080808081,3.5],\"y\":[0.5,0.5,0.5,0.5,0.5,0.5,0.5,0.5,0.5,0.5,0.5,0.5,0.5,0.5,0.5,0.5,0.5,0.5,0.5,0.5,0.5,0.5,0.5,0.5,0.5,0.5,0.5,0.5,0.5,0.5,0.5,0.5,0.5,0.5,0.5,0.5,0.5,0.5,0.5,0.5,0.5,0.5,0.5,0.5,0.5,0.5,0.5,0.5,0.5,0.5,0.5,0.5,0.5,0.5,0.5,0.5,0.5,0.5,0.5,0.5,0.5,0.5,0.5,0.5,0.5,0.5,0.5,0.5,0.5,0.5,0.5,0.5,0.5,0.5,0.5,0.5,0.5,0.5,0.5,0.5,0.5,0.5,0.5,0.5,0.5,0.5,0.5,0.5,0.5,0.5,0.5,0.5,0.5,0.5,0.5,0.5,0.5,0.5,0.5,0.5],\"z\":[71462.95824999998,71462.95824999998,71462.95824999998,71462.95824999998,71462.95824999998,71462.95824999998,71462.95824999998,71462.95824999998,71462.95824999998,71462.95824999998,71462.95824999998,71462.95824999998,71462.95824999998,71462.95824999998,71462.95824999998,71462.95824999998,71462.95824999998,71462.95824999998,71462.95824999998,71462.95824999998,71462.95824999998,71462.95824999998,71462.95824999998,71462.95824999998,71462.95824999998,71462.95824999998,71462.95824999998,71462.95824999998,71462.95824999998,71462.95824999998,71462.95824999998,71462.95824999998,71462.95824999998,71462.95824999998,71462.95824999998,71462.95824999998,71462.95824999998,71462.95824999998,71462.95824999998,71462.95824999998,71462.95824999998,71462.95824999998,71462.95824999998,71462.95824999998,71462.95824999998,71462.95824999998,71462.95824999998,71462.95824999998,71462.95824999998,71462.95824999998,71462.95824999998,71462.95824999998,71462.95824999998,71462.95824999998,71462.95824999998,71462.95824999998,71462.95824999998,71462.95824999998,71462.95824999998,71462.95824999998,71462.95824999998,71462.95824999998,71462.95824999998,71462.95824999998,71462.95824999998,71462.95824999998,71462.95824999998,71462.95824999998,71462.95824999998,71462.95824999998,71462.95824999998,71462.95824999998,71462.95824999998,71462.95824999998,71462.95824999998,71462.95824999998,71462.95824999998,71462.95824999998,71462.95824999998,71462.95824999998,71462.95824999998,71462.95824999998,71462.95824999998,71462.95824999998,71462.95824999998,71462.95824999998,71462.95824999998,71462.95824999998,71462.95824999998,71462.95824999998,71462.95824999998,71462.95824999998,71462.95824999998,71462.95824999998,71462.95824999998,71462.95824999998,71462.95824999998,71462.95824999998,71462.95824999998,71462.95824999998],\"type\":\"scatter3d\"},{\"line\":{\"color\":\"blue\",\"width\":2},\"mode\":\"lines\",\"showlegend\":false,\"x\":[1.6,1.6191919191919193,1.6383838383838385,1.6575757575757577,1.676767676767677,1.6959595959595961,1.7151515151515153,1.7343434343434345,1.7535353535353537,1.772727272727273,1.791919191919192,1.8111111111111111,1.8303030303030303,1.8494949494949495,1.8686868686868687,1.887878787878788,1.9070707070707071,1.9262626262626263,1.9454545454545455,1.9646464646464648,1.983838383838384,2.003030303030303,2.022222222222222,2.0414141414141413,2.0606060606060606,2.0797979797979798,2.098989898989899,2.118181818181818,2.1373737373737374,2.1565656565656566,2.175757575757576,2.194949494949495,2.214141414141414,2.2333333333333334,2.2525252525252526,2.271717171717172,2.290909090909091,2.31010101010101,2.3292929292929294,2.3484848484848486,2.367676767676768,2.386868686868687,2.4060606060606062,2.4252525252525254,2.4444444444444446,2.463636363636364,2.482828282828283,2.5020202020202023,2.5212121212121215,2.5404040404040407,2.55959595959596,2.578787878787879,2.5979797979797983,2.6171717171717175,2.6363636363636367,2.655555555555556,2.6747474747474747,2.693939393939394,2.713131313131313,2.7323232323232323,2.7515151515151515,2.7707070707070707,2.78989898989899,2.809090909090909,2.8282828282828283,2.8474747474747475,2.8666666666666667,2.885858585858586,2.905050505050505,2.9242424242424243,2.9434343434343435,2.9626262626262627,2.981818181818182,3.0010101010101007,3.02020202020202,3.039393939393939,3.0585858585858583,3.0777777777777775,3.0969696969696967,3.116161616161616,3.135353535353535,3.1545454545454543,3.1737373737373735,3.1929292929292927,3.212121212121212,3.231313131313131,3.2505050505050503,3.2696969696969695,3.2888888888888888,3.308080808080808,3.327272727272727,3.3464646464646464,3.3656565656565656,3.3848484848484848,3.404040404040404,3.423232323232323,3.4424242424242424,3.4616161616161616,3.480808080808081,3.5],\"y\":[-0.5,-0.5,-0.5,-0.5,-0.5,-0.5,-0.5,-0.5,-0.5,-0.5,-0.5,-0.5,-0.5,-0.5,-0.5,-0.5,-0.5,-0.5,-0.5,-0.5,-0.5,-0.5,-0.5,-0.5,-0.5,-0.5,-0.5,-0.5,-0.5,-0.5,-0.5,-0.5,-0.5,-0.5,-0.5,-0.5,-0.5,-0.5,-0.5,-0.5,-0.5,-0.5,-0.5,-0.5,-0.5,-0.5,-0.5,-0.5,-0.5,-0.5,-0.5,-0.5,-0.5,-0.5,-0.5,-0.5,-0.5,-0.5,-0.5,-0.5,-0.5,-0.5,-0.5,-0.5,-0.5,-0.5,-0.5,-0.5,-0.5,-0.5,-0.5,-0.5,-0.5,-0.5,-0.5,-0.5,-0.5,-0.5,-0.5,-0.5,-0.5,-0.5,-0.5,-0.5,-0.5,-0.5,-0.5,-0.5,-0.5,-0.5,-0.5,-0.5,-0.5,-0.5,-0.5,-0.5,-0.5,-0.5,-0.5,-0.5],\"z\":[71994.06824999998,71994.06824999998,71994.06824999998,71994.06824999998,71994.06824999998,71994.06824999998,71994.06824999998,71994.06824999998,71994.06824999998,71994.06824999998,71994.06824999998,71994.06824999998,71994.06824999998,71994.06824999998,71994.06824999998,71994.06824999998,71994.06824999998,71994.06824999998,71994.06824999998,71994.06824999998,71994.06824999998,71994.06824999998,71994.06824999998,71994.06824999998,71994.06824999998,71994.06824999998,71994.06824999998,71994.06824999998,71994.06824999998,71994.06824999998,71994.06824999998,71994.06824999998,71994.06824999998,71994.06824999998,71994.06824999998,71994.06824999998,71994.06824999998,71994.06824999998,71994.06824999998,71994.06824999998,71994.06824999998,71994.06824999998,71994.06824999998,71994.06824999998,71994.06824999998,71994.06824999998,71994.06824999998,71994.06824999998,71994.06824999998,71994.06824999998,71994.06824999998,71994.06824999998,71994.06824999998,71994.06824999998,71994.06824999998,71994.06824999998,71994.06824999998,71994.06824999998,71994.06824999998,71994.06824999998,71994.06824999998,71994.06824999998,71994.06824999998,71994.06824999998,71994.06824999998,71994.06824999998,71994.06824999998,71994.06824999998,71994.06824999998,71994.06824999998,71994.06824999998,71994.06824999998,71994.06824999998,71994.06824999998,71994.06824999998,71994.06824999998,71994.06824999998,71994.06824999998,71994.06824999998,71994.06824999998,71994.06824999998,71994.06824999998,71994.06824999998,71994.06824999998,71994.06824999998,71994.06824999998,71994.06824999998,71994.06824999998,71994.06824999998,71994.06824999998,71994.06824999998,71994.06824999998,71994.06824999998,71994.06824999998,71994.06824999998,71994.06824999998,71994.06824999998,71994.06824999998,71994.06824999998,71994.06824999998],\"type\":\"scatter3d\"},{\"marker\":{\"color\":\"green\",\"opacity\":1,\"size\":10,\"symbol\":\"x\"},\"mode\":\"markers\",\"name\":\"Center Point\",\"x\":[0.0],\"y\":[0.0],\"z\":[71073.04824999999],\"type\":\"scatter3d\"},{\"line\":{\"color\":\"black\",\"width\":1},\"mode\":\"lines\",\"showlegend\":false,\"x\":[0.5,0.0],\"y\":[0.5,0.0],\"z\":[70154.43825,71073.04824999999],\"type\":\"scatter3d\"},{\"line\":{\"color\":\"black\",\"width\":1},\"mode\":\"lines\",\"showlegend\":false,\"x\":[0.5,0.0],\"y\":[-0.5,0.0],\"z\":[70680.72825,71073.04824999999],\"type\":\"scatter3d\"},{\"line\":{\"color\":\"black\",\"width\":1},\"mode\":\"lines\",\"showlegend\":false,\"x\":[-0.5,0.0],\"y\":[0.5,0.0],\"z\":[71462.95824999998,71073.04824999999],\"type\":\"scatter3d\"},{\"line\":{\"color\":\"black\",\"width\":1},\"mode\":\"lines\",\"showlegend\":false,\"x\":[-0.5,0.0],\"y\":[-0.5,0.0],\"z\":[71994.06824999998,71073.04824999999],\"type\":\"scatter3d\"}],                        {\"template\":{\"data\":{\"histogram2dcontour\":[{\"type\":\"histogram2dcontour\",\"colorbar\":{\"outlinewidth\":0,\"ticks\":\"\"},\"colorscale\":[[0.0,\"#0d0887\"],[0.1111111111111111,\"#46039f\"],[0.2222222222222222,\"#7201a8\"],[0.3333333333333333,\"#9c179e\"],[0.4444444444444444,\"#bd3786\"],[0.5555555555555556,\"#d8576b\"],[0.6666666666666666,\"#ed7953\"],[0.7777777777777778,\"#fb9f3a\"],[0.8888888888888888,\"#fdca26\"],[1.0,\"#f0f921\"]]}],\"choropleth\":[{\"type\":\"choropleth\",\"colorbar\":{\"outlinewidth\":0,\"ticks\":\"\"}}],\"histogram2d\":[{\"type\":\"histogram2d\",\"colorbar\":{\"outlinewidth\":0,\"ticks\":\"\"},\"colorscale\":[[0.0,\"#0d0887\"],[0.1111111111111111,\"#46039f\"],[0.2222222222222222,\"#7201a8\"],[0.3333333333333333,\"#9c179e\"],[0.4444444444444444,\"#bd3786\"],[0.5555555555555556,\"#d8576b\"],[0.6666666666666666,\"#ed7953\"],[0.7777777777777778,\"#fb9f3a\"],[0.8888888888888888,\"#fdca26\"],[1.0,\"#f0f921\"]]}],\"heatmap\":[{\"type\":\"heatmap\",\"colorbar\":{\"outlinewidth\":0,\"ticks\":\"\"},\"colorscale\":[[0.0,\"#0d0887\"],[0.1111111111111111,\"#46039f\"],[0.2222222222222222,\"#7201a8\"],[0.3333333333333333,\"#9c179e\"],[0.4444444444444444,\"#bd3786\"],[0.5555555555555556,\"#d8576b\"],[0.6666666666666666,\"#ed7953\"],[0.7777777777777778,\"#fb9f3a\"],[0.8888888888888888,\"#fdca26\"],[1.0,\"#f0f921\"]]}],\"heatmapgl\":[{\"type\":\"heatmapgl\",\"colorbar\":{\"outlinewidth\":0,\"ticks\":\"\"},\"colorscale\":[[0.0,\"#0d0887\"],[0.1111111111111111,\"#46039f\"],[0.2222222222222222,\"#7201a8\"],[0.3333333333333333,\"#9c179e\"],[0.4444444444444444,\"#bd3786\"],[0.5555555555555556,\"#d8576b\"],[0.6666666666666666,\"#ed7953\"],[0.7777777777777778,\"#fb9f3a\"],[0.8888888888888888,\"#fdca26\"],[1.0,\"#f0f921\"]]}],\"contourcarpet\":[{\"type\":\"contourcarpet\",\"colorbar\":{\"outlinewidth\":0,\"ticks\":\"\"}}],\"contour\":[{\"type\":\"contour\",\"colorbar\":{\"outlinewidth\":0,\"ticks\":\"\"},\"colorscale\":[[0.0,\"#0d0887\"],[0.1111111111111111,\"#46039f\"],[0.2222222222222222,\"#7201a8\"],[0.3333333333333333,\"#9c179e\"],[0.4444444444444444,\"#bd3786\"],[0.5555555555555556,\"#d8576b\"],[0.6666666666666666,\"#ed7953\"],[0.7777777777777778,\"#fb9f3a\"],[0.8888888888888888,\"#fdca26\"],[1.0,\"#f0f921\"]]}],\"surface\":[{\"type\":\"surface\",\"colorbar\":{\"outlinewidth\":0,\"ticks\":\"\"},\"colorscale\":[[0.0,\"#0d0887\"],[0.1111111111111111,\"#46039f\"],[0.2222222222222222,\"#7201a8\"],[0.3333333333333333,\"#9c179e\"],[0.4444444444444444,\"#bd3786\"],[0.5555555555555556,\"#d8576b\"],[0.6666666666666666,\"#ed7953\"],[0.7777777777777778,\"#fb9f3a\"],[0.8888888888888888,\"#fdca26\"],[1.0,\"#f0f921\"]]}],\"mesh3d\":[{\"type\":\"mesh3d\",\"colorbar\":{\"outlinewidth\":0,\"ticks\":\"\"}}],\"scatter\":[{\"fillpattern\":{\"fillmode\":\"overlay\",\"size\":10,\"solidity\":0.2},\"type\":\"scatter\"}],\"parcoords\":[{\"type\":\"parcoords\",\"line\":{\"colorbar\":{\"outlinewidth\":0,\"ticks\":\"\"}}}],\"scatterpolargl\":[{\"type\":\"scatterpolargl\",\"marker\":{\"colorbar\":{\"outlinewidth\":0,\"ticks\":\"\"}}}],\"bar\":[{\"error_x\":{\"color\":\"#2a3f5f\"},\"error_y\":{\"color\":\"#2a3f5f\"},\"marker\":{\"line\":{\"color\":\"#E5ECF6\",\"width\":0.5},\"pattern\":{\"fillmode\":\"overlay\",\"size\":10,\"solidity\":0.2}},\"type\":\"bar\"}],\"scattergeo\":[{\"type\":\"scattergeo\",\"marker\":{\"colorbar\":{\"outlinewidth\":0,\"ticks\":\"\"}}}],\"scatterpolar\":[{\"type\":\"scatterpolar\",\"marker\":{\"colorbar\":{\"outlinewidth\":0,\"ticks\":\"\"}}}],\"histogram\":[{\"marker\":{\"pattern\":{\"fillmode\":\"overlay\",\"size\":10,\"solidity\":0.2}},\"type\":\"histogram\"}],\"scattergl\":[{\"type\":\"scattergl\",\"marker\":{\"colorbar\":{\"outlinewidth\":0,\"ticks\":\"\"}}}],\"scatter3d\":[{\"type\":\"scatter3d\",\"line\":{\"colorbar\":{\"outlinewidth\":0,\"ticks\":\"\"}},\"marker\":{\"colorbar\":{\"outlinewidth\":0,\"ticks\":\"\"}}}],\"scattermapbox\":[{\"type\":\"scattermapbox\",\"marker\":{\"colorbar\":{\"outlinewidth\":0,\"ticks\":\"\"}}}],\"scatterternary\":[{\"type\":\"scatterternary\",\"marker\":{\"colorbar\":{\"outlinewidth\":0,\"ticks\":\"\"}}}],\"scattercarpet\":[{\"type\":\"scattercarpet\",\"marker\":{\"colorbar\":{\"outlinewidth\":0,\"ticks\":\"\"}}}],\"carpet\":[{\"aaxis\":{\"endlinecolor\":\"#2a3f5f\",\"gridcolor\":\"white\",\"linecolor\":\"white\",\"minorgridcolor\":\"white\",\"startlinecolor\":\"#2a3f5f\"},\"baxis\":{\"endlinecolor\":\"#2a3f5f\",\"gridcolor\":\"white\",\"linecolor\":\"white\",\"minorgridcolor\":\"white\",\"startlinecolor\":\"#2a3f5f\"},\"type\":\"carpet\"}],\"table\":[{\"cells\":{\"fill\":{\"color\":\"#EBF0F8\"},\"line\":{\"color\":\"white\"}},\"header\":{\"fill\":{\"color\":\"#C8D4E3\"},\"line\":{\"color\":\"white\"}},\"type\":\"table\"}],\"barpolar\":[{\"marker\":{\"line\":{\"color\":\"#E5ECF6\",\"width\":0.5},\"pattern\":{\"fillmode\":\"overlay\",\"size\":10,\"solidity\":0.2}},\"type\":\"barpolar\"}],\"pie\":[{\"automargin\":true,\"type\":\"pie\"}]},\"layout\":{\"autotypenumbers\":\"strict\",\"colorway\":[\"#636efa\",\"#EF553B\",\"#00cc96\",\"#ab63fa\",\"#FFA15A\",\"#19d3f3\",\"#FF6692\",\"#B6E880\",\"#FF97FF\",\"#FECB52\"],\"font\":{\"color\":\"#2a3f5f\"},\"hovermode\":\"closest\",\"hoverlabel\":{\"align\":\"left\"},\"paper_bgcolor\":\"white\",\"plot_bgcolor\":\"#E5ECF6\",\"polar\":{\"bgcolor\":\"#E5ECF6\",\"angularaxis\":{\"gridcolor\":\"white\",\"linecolor\":\"white\",\"ticks\":\"\"},\"radialaxis\":{\"gridcolor\":\"white\",\"linecolor\":\"white\",\"ticks\":\"\"}},\"ternary\":{\"bgcolor\":\"#E5ECF6\",\"aaxis\":{\"gridcolor\":\"white\",\"linecolor\":\"white\",\"ticks\":\"\"},\"baxis\":{\"gridcolor\":\"white\",\"linecolor\":\"white\",\"ticks\":\"\"},\"caxis\":{\"gridcolor\":\"white\",\"linecolor\":\"white\",\"ticks\":\"\"}},\"coloraxis\":{\"colorbar\":{\"outlinewidth\":0,\"ticks\":\"\"}},\"colorscale\":{\"sequential\":[[0.0,\"#0d0887\"],[0.1111111111111111,\"#46039f\"],[0.2222222222222222,\"#7201a8\"],[0.3333333333333333,\"#9c179e\"],[0.4444444444444444,\"#bd3786\"],[0.5555555555555556,\"#d8576b\"],[0.6666666666666666,\"#ed7953\"],[0.7777777777777778,\"#fb9f3a\"],[0.8888888888888888,\"#fdca26\"],[1.0,\"#f0f921\"]],\"sequentialminus\":[[0.0,\"#0d0887\"],[0.1111111111111111,\"#46039f\"],[0.2222222222222222,\"#7201a8\"],[0.3333333333333333,\"#9c179e\"],[0.4444444444444444,\"#bd3786\"],[0.5555555555555556,\"#d8576b\"],[0.6666666666666666,\"#ed7953\"],[0.7777777777777778,\"#fb9f3a\"],[0.8888888888888888,\"#fdca26\"],[1.0,\"#f0f921\"]],\"diverging\":[[0,\"#8e0152\"],[0.1,\"#c51b7d\"],[0.2,\"#de77ae\"],[0.3,\"#f1b6da\"],[0.4,\"#fde0ef\"],[0.5,\"#f7f7f7\"],[0.6,\"#e6f5d0\"],[0.7,\"#b8e186\"],[0.8,\"#7fbc41\"],[0.9,\"#4d9221\"],[1,\"#276419\"]]},\"xaxis\":{\"gridcolor\":\"white\",\"linecolor\":\"white\",\"ticks\":\"\",\"title\":{\"standoff\":15},\"zerolinecolor\":\"white\",\"automargin\":true,\"zerolinewidth\":2},\"yaxis\":{\"gridcolor\":\"white\",\"linecolor\":\"white\",\"ticks\":\"\",\"title\":{\"standoff\":15},\"zerolinecolor\":\"white\",\"automargin\":true,\"zerolinewidth\":2},\"scene\":{\"xaxis\":{\"backgroundcolor\":\"#E5ECF6\",\"gridcolor\":\"white\",\"linecolor\":\"white\",\"showbackground\":true,\"ticks\":\"\",\"zerolinecolor\":\"white\",\"gridwidth\":2},\"yaxis\":{\"backgroundcolor\":\"#E5ECF6\",\"gridcolor\":\"white\",\"linecolor\":\"white\",\"showbackground\":true,\"ticks\":\"\",\"zerolinecolor\":\"white\",\"gridwidth\":2},\"zaxis\":{\"backgroundcolor\":\"#E5ECF6\",\"gridcolor\":\"white\",\"linecolor\":\"white\",\"showbackground\":true,\"ticks\":\"\",\"zerolinecolor\":\"white\",\"gridwidth\":2}},\"shapedefaults\":{\"line\":{\"color\":\"#2a3f5f\"}},\"annotationdefaults\":{\"arrowcolor\":\"#2a3f5f\",\"arrowhead\":0,\"arrowwidth\":1},\"geo\":{\"bgcolor\":\"white\",\"landcolor\":\"#E5ECF6\",\"subunitcolor\":\"white\",\"showland\":true,\"showlakes\":true,\"lakecolor\":\"white\"},\"title\":{\"x\":0.05},\"mapbox\":{\"style\":\"light\"}}},\"scene\":{\"xaxis\":{\"title\":{\"text\":\"w\"}},\"yaxis\":{\"title\":{\"text\":\"b\"}},\"zaxis\":{\"title\":{\"text\":\"MSE\"}}},\"title\":{\"text\":\"MSE as a function of w and b with fitted lines\"}},                        {\"responsive\": true}                    ).then(function(){\n",
       "                            \n",
       "var gd = document.getElementById('55950cf0-31e4-4c25-bd47-e89c5a08eb05');\n",
       "var x = new MutationObserver(function (mutations, observer) {{\n",
       "        var display = window.getComputedStyle(gd).display;\n",
       "        if (!display || display === 'none') {{\n",
       "            console.log([gd, 'removed!']);\n",
       "            Plotly.purge(gd);\n",
       "            observer.disconnect();\n",
       "        }}\n",
       "}});\n",
       "\n",
       "// Listen for the removal of the full notebook cells\n",
       "var notebookContainer = gd.closest('#notebook-container');\n",
       "if (notebookContainer) {{\n",
       "    x.observe(notebookContainer, {childList: true});\n",
       "}}\n",
       "\n",
       "// Listen for the clearing of the current output cell\n",
       "var outputEl = gd.closest('.output');\n",
       "if (outputEl) {{\n",
       "    x.observe(outputEl, {childList: true});\n",
       "}}\n",
       "\n",
       "                        })                };                });            </script>        </div>"
      ]
     },
     "metadata": {},
     "output_type": "display_data"
    }
   ],
   "source": [
    "import numpy as np\n",
    "import plotly.graph_objects as go\n",
    "\n",
    "episode = GetEpisode()\n",
    "\n",
    "# 리스트 초기화\n",
    "w_values = []\n",
    "b_values = []\n",
    "mse_values = []\n",
    "\n",
    "# 반복문을 통해 w, b 및 MSE 계산\n",
    "for x in episode.index:\n",
    "    w = episode.loc[x, 'w']\n",
    "    b = episode.loc[x, 'b']\n",
    "    w_values.append(w)\n",
    "    b_values.append(b)\n",
    "    mse = MSE(w, b, Y)\n",
    "    mse_values.append(mse)\n",
    "    episode.loc[x, 'MSE'] = mse\n",
    "\n",
    "# 3D Scatter Plot 생성\n",
    "fig = go.Figure(data=go.Scatter3d(\n",
    "    x=w_values,\n",
    "    y=b_values,\n",
    "    z=mse_values,\n",
    "    mode='markers',\n",
    "    marker=dict(\n",
    "        size=5,\n",
    "        color='red',                # 마커 색상 설정\n",
    "        opacity=0.8\n",
    "    )\n",
    "))\n",
    "\n",
    "# 각 w, b 값에 대한 직선 추가\n",
    "for i in range(len(w_values)):\n",
    "    w = w_values[i]\n",
    "    b = b_values[i]\n",
    "    x_vals = np.linspace(min(X), max(X), 100)  # X 데이터 범위 내에서 x 값 생성\n",
    "    y_vals = w * x_vals + b                    # 직선 방정식 계산\n",
    "    fig.add_trace(go.Scatter3d(\n",
    "        x=x_vals,\n",
    "        y=np.full_like(x_vals, b),             # 직선의 y 값은 b로 고정\n",
    "        z=MSE(w, b, Y) * np.ones_like(x_vals), # 직선의 z 값은 해당 w, b에 대한 MSE로 고정\n",
    "        mode='lines',\n",
    "        line=dict(\n",
    "            color='blue',                      # 직선의 색상 설정\n",
    "            width=2                            # 직선의 두께 설정\n",
    "        ),\n",
    "        showlegend=False                       # 범례에서 숨김\n",
    "    ))\n",
    "\n",
    "# 중심점 계산\n",
    "center_w = np.mean(w_values)\n",
    "center_b = np.mean(b_values)\n",
    "center_mse = np.mean(mse_values)\n",
    "\n",
    "# 중심점 추가\n",
    "fig.add_trace(go.Scatter3d(\n",
    "    x=[center_w],\n",
    "    y=[center_b],\n",
    "    z=[center_mse],\n",
    "    mode='markers',\n",
    "    marker=dict(\n",
    "        size=10,\n",
    "        color='green',              # 중심점 색상 설정\n",
    "        opacity=1,\n",
    "        symbol='x',                 # 중심점 심볼 설정\n",
    "    ),\n",
    "    name='Center Point'\n",
    "))\n",
    "\n",
    "# 각 포인트와 중심점 연결선 추가\n",
    "for i in range(len(w_values)):\n",
    "    fig.add_trace(go.Scatter3d(\n",
    "        x=[w_values[i], center_w],\n",
    "        y=[b_values[i], center_b],\n",
    "        z=[mse_values[i], center_mse],\n",
    "        mode='lines',\n",
    "        line=dict(\n",
    "            color='black',           # 연결선 색상 설정\n",
    "            width=1                  # 연결선 두께 설정\n",
    "        ),\n",
    "        showlegend=False            # 범례에서 숨김\n",
    "    ))\n",
    "\n",
    "# 레이아웃 설정\n",
    "fig.update_layout(\n",
    "    scene=dict(\n",
    "        xaxis_title='w',            # x 축 레이블 설정\n",
    "        yaxis_title='b',            # y 축 레이블 설정\n",
    "        zaxis_title='MSE',          # z 축 레이블 설정\n",
    "    ),\n",
    "    title='MSE as a function of w and b with fitted lines'\n",
    ")\n",
    "\n",
    "# 그래프 표시\n",
    "fig.show()\n"
   ]
  },
  {
   "cell_type": "markdown",
   "id": "65e7d4c6",
   "metadata": {},
   "source": [
    "### Think\n",
    "\n",
    "* 우리가 하는 일종의 완전 탐색 기법 알고리즘인데  \n",
    "이것도 잘 셋팅을 해서 보면 일종의 미분을 이용하는 것이 아닐까?  \n",
    "\n",
    "* 머신러닝에서 사용되는 learning rate, 초기화의 문제도 위 상황에서는 설명이 가능하지 않을까?   \n",
    "\n",
    "* 이러한 접근을 바탕으로 경사하강법이라는게 말이 되는 알고리즘이 아닐까?  \n",
    "\n",
    "라는 것들이 생각났습니다  "
   ]
  },
  {
   "cell_type": "code",
   "execution_count": null,
   "id": "b55845b4",
   "metadata": {},
   "outputs": [],
   "source": []
  }
 ],
 "metadata": {
  "kernelspec": {
   "display_name": "Python 3 (ipykernel)",
   "language": "python",
   "name": "python3"
  },
  "language_info": {
   "codemirror_mode": {
    "name": "ipython",
    "version": 3
   },
   "file_extension": ".py",
   "mimetype": "text/x-python",
   "name": "python",
   "nbconvert_exporter": "python",
   "pygments_lexer": "ipython3",
   "version": "3.8.12"
  }
 },
 "nbformat": 4,
 "nbformat_minor": 5
}
